{
 "cells": [
  {
   "cell_type": "markdown",
   "metadata": {
    "colab_type": "text",
    "id": "tAX6dynh1ENW"
   },
   "source": [
    "# Playing Pong with Deep Reinforcement Learning\n",
    "\n",
    "---\n",
    "\n",
    "Read the paper [Playing Atari with Deep Reinforcement Learning](https://arxiv.org/pdf/1312.5602.pdf) (the paper is also inside the 'Papers' folder in the course materials), and implement a model that can play atari games.\n",
    "\n",
    "The goals of this project are the following:\n",
    "\n",
    "- Read and understand the paper.\n",
    "- Add a brief summary of the paper at the start of the notebook.\n",
    "- Mention and implement the preprocessing needed; you can add your own steps if needed.\n",
    "- Load an Atari environment from OpenAI Gym; start with Pong, and try with at least one more.\n",
    "- Define the convolutional model needed for training.\n",
    "- Apply deep q learning with your model.\n",
    "- Use the model to play a game and show the result.\n",
    "\n",
    "**Rubric:**\n",
    "\n",
    "1. A summary of the paper was included. The summary covered what the paper does, and why, as well as the preprocessing steps and the model they introduced.\n",
    "2. Read images from the environment, and performed the correct preprocessing steps.\n",
    "3. Defined an agent class with the needed functions.\n",
    "4. Defined the model within the agent class.\n",
    "5. Trained the model with the Pong environment. Save the weights after each episode.\n",
    "6. Test the model by making it play Pong.\n",
    "7. Train and test the agent with another Atari environment of your choosing.\n"
   ]
  },
  {
   "cell_type": "markdown",
   "metadata": {
    "colab_type": "text",
    "id": "ahIZHdp12nY-"
   },
   "source": [
    "## Add a summary of the paper in this cell"
   ]
  },
  {
   "cell_type": "markdown",
   "metadata": {
    "colab_type": "text",
    "id": "cV0S4zYRLEeH"
   },
   "source": [
    "The paper talked about the posibility to create a neuronal network that can learn to play different games without any changes in the architecture of the network, the only change was the input that was a part of the screen of the game the network tried to learn.\n",
    "\n",
    "They described how they calculated the reward and function implemented. Also mentioned that one movement in the game may take a lot of timesteps to see that movement result and give a proper reward, either negative or positive. There was a problem with the score too, different games means different ways to increase the score and therefore different increasing values, they opted to set positive rewars to one and negative to -1 to reduce complexity.\n",
    "\n",
    "The images were preprocessed by pasing the image to gray scale, downsampling and corping it. This results in a square image. Then they merged four of those images (differente frames) and sended to the network, so the input was NxNx4. Also there was an skipping of four frames to speed up the training and it didn't affected the trainning to much, just in space invaders where the laser blinks.\n",
    "\n",
    "The network they used was a small one, two convolutional layers, the flatten and two dense layers, one for analisis and the other for the result.\n",
    "\n",
    "For their experiments they used a batch size of 32, RMSProp and a linear replay memory of 1 million."
   ]
  },
  {
   "cell_type": "markdown",
   "metadata": {
    "colab_type": "text",
    "id": "NrmWWhzE1Vg1"
   },
   "source": [
    "### Basic installs and imports for Colab"
   ]
  },
  {
   "cell_type": "code",
   "execution_count": 1,
   "metadata": {
    "colab": {
     "base_uri": "https://localhost:8080/",
     "height": 281
    },
    "colab_type": "code",
    "id": "cmTlRpCTiUeo",
    "outputId": "08083a65-2c4f-4194-d44f-f661520a7d80"
   },
   "outputs": [
    {
     "name": "stdout",
     "output_type": "stream",
     "text": [
      "Collecting setuptools\n",
      "\u001b[?25l  Downloading https://files.pythonhosted.org/packages/c8/b0/cc6b7ba28d5fb790cf0d5946df849233e32b8872b6baca10c9e002ff5b41/setuptools-41.0.0-py2.py3-none-any.whl (575kB)\n",
      "\u001b[K    100% |████████████████████████████████| 583kB 27.3MB/s \n",
      "\u001b[31mdatascience 0.10.6 has requirement folium==0.2.1, but you'll have folium 0.8.3 which is incompatible.\u001b[0m\n",
      "\u001b[?25hInstalling collected packages: setuptools\n",
      "  Found existing installation: setuptools 40.9.0\n",
      "    Uninstalling setuptools-40.9.0:\n",
      "      Successfully uninstalled setuptools-40.9.0\n",
      "Successfully installed setuptools-41.0.0\n"
     ]
    },
    {
     "data": {
      "application/vnd.colab-display-data+json": {
       "pip_warning": {
        "packages": [
         "pkg_resources"
        ]
       }
      }
     },
     "metadata": {
      "tags": []
     },
     "output_type": "display_data"
    }
   ],
   "source": [
    "#remove \" > /dev/null 2>&1\" to see what is going on under the hood\n",
    "!pip install gym pyvirtualdisplay > /dev/null 2>&1\n",
    "!apt-get install -y xvfb python-opengl ffmpeg > /dev/null 2>&1\n",
    "!apt-get update > /dev/null 2>&1\n",
    "!apt-get install cmake > /dev/null 2>&1\n",
    "!pip install --upgrade setuptools 2>&1\n",
    "!pip install ez_setup > /dev/null 2>&1\n",
    "!pip install gym[atari] > /dev/null 2>&1\n",
    "!pip install gym[box2d] > /dev/null 2>&1"
   ]
  },
  {
   "cell_type": "code",
   "execution_count": 2,
   "metadata": {
    "colab": {
     "base_uri": "https://localhost:8080/",
     "height": 35
    },
    "colab_type": "code",
    "id": "SOAgdSpoi8Md",
    "outputId": "af3e6114-37a2-41e9-fd49-6917ea8a1bb0"
   },
   "outputs": [
    {
     "name": "stderr",
     "output_type": "stream",
     "text": [
      "Using TensorFlow backend.\n"
     ]
    }
   ],
   "source": [
    "import gym\n",
    "from gym import logger as gymlogger\n",
    "from gym.wrappers import Monitor\n",
    "\n",
    "import matplotlib\n",
    "import matplotlib.pyplot as plt\n",
    "\n",
    "import cv2\n",
    "import numpy as np\n",
    "import random, math\n",
    "\n",
    "from keras import models, layers, optimizers\n",
    "\n",
    "from collections import deque\n",
    "\n",
    "import glob, io, base64\n",
    "\n",
    "from IPython.display import HTML\n",
    "from IPython import display as ipythondisplay\n",
    "from pyvirtualdisplay import Display\n",
    "\n",
    "gymlogger.set_level(40) #error only\n",
    "%matplotlib inline"
   ]
  },
  {
   "cell_type": "markdown",
   "metadata": {
    "colab_type": "text",
    "id": "JCXxMUco1aoh"
   },
   "source": [
    "### Functions that wraps a video in colab"
   ]
  },
  {
   "cell_type": "code",
   "execution_count": 0,
   "metadata": {
    "colab": {},
    "colab_type": "code",
    "id": "xguRhza7jSRD"
   },
   "outputs": [],
   "source": [
    "\"\"\"\n",
    "Utility functions to enable video recording of gym environment and displaying it\n",
    "To enable video, just do \"env = wrap_env(env)\"\"\n",
    "\"\"\"\n",
    "\n",
    "def show_video():\n",
    "  mp4list = glob.glob('video/*.mp4')\n",
    "  if len(mp4list) > 0:\n",
    "    mp4 = mp4list[0]\n",
    "    video = io.open(mp4, 'r+b').read()\n",
    "    encoded = base64.b64encode(video)\n",
    "    ipythondisplay.display(HTML(data='''<video alt=\"test\" autoplay \n",
    "                loop controls style=\"height: 400px;\">\n",
    "                <source src=\"data:video/mp4;base64,{0}\" type=\"video/mp4\" />\n",
    "             </video>'''.format(encoded.decode('ascii'))))\n",
    "  else: \n",
    "    print(\"Could not find video\")\n",
    "    \n",
    "\n",
    "def wrap_env(env):\n",
    "  env = Monitor(env, './video', force=True)\n",
    "  return env"
   ]
  },
  {
   "cell_type": "code",
   "execution_count": 4,
   "metadata": {
    "colab": {
     "base_uri": "https://localhost:8080/",
     "height": 55
    },
    "colab_type": "code",
    "id": "2HI_wN3OjVd2",
    "outputId": "be31f501-33a5-41b4-a559-e1fe43eb497d"
   },
   "outputs": [
    {
     "data": {
      "text/plain": [
       "<Display cmd_param=['Xvfb', '-br', '-nolisten', 'tcp', '-screen', '0', '1400x900x24', ':1001'] cmd=['Xvfb', '-br', '-nolisten', 'tcp', '-screen', '0', '1400x900x24', ':1001'] oserror=None return_code=None stdout=\"None\" stderr=\"None\" timeout_happened=False>"
      ]
     },
     "execution_count": 4,
     "metadata": {
      "tags": []
     },
     "output_type": "execute_result"
    }
   ],
   "source": [
    "display = Display(visible=0, size=(1400, 900))\n",
    "display.start()"
   ]
  },
  {
   "cell_type": "code",
   "execution_count": 5,
   "metadata": {
    "colab": {
     "base_uri": "https://localhost:8080/",
     "height": 35
    },
    "colab_type": "code",
    "id": "C3jpZDbFjJu8",
    "outputId": "6b419d5a-b2ea-44fe-b418-19b73fdeb761"
   },
   "outputs": [
    {
     "name": "stdout",
     "output_type": "stream",
     "text": [
      "210 6\n"
     ]
    }
   ],
   "source": [
    "# Loads the pong environment\n",
    "env = wrap_env(gym.make('Pong-v0'))\n",
    "\n",
    "state_size = env.observation_space.shape[0]\n",
    "action_size = env.action_space.n\n",
    "\n",
    "print(state_size, action_size)\n",
    "\n",
    "batch_size = 32\n",
    "\n",
    "n_episodes = 1001"
   ]
  },
  {
   "cell_type": "code",
   "execution_count": 6,
   "metadata": {
    "colab": {
     "base_uri": "https://localhost:8080/",
     "height": 35
    },
    "colab_type": "code",
    "id": "R5T1o_x-BI-T",
    "outputId": "e7c3e198-0568-4258-9b9b-61100eac1850"
   },
   "outputs": [
    {
     "name": "stdout",
     "output_type": "stream",
     "text": [
      "Could not find video\n"
     ]
    }
   ],
   "source": [
    "show_video()"
   ]
  },
  {
   "cell_type": "markdown",
   "metadata": {
    "colab_type": "text",
    "id": "h3Ww0L4w1hE4"
   },
   "source": [
    "## Define the Deep Q learning Agent"
   ]
  },
  {
   "cell_type": "code",
   "execution_count": 0,
   "metadata": {
    "colab": {},
    "colab_type": "code",
    "id": "nbtt8Frsjvm8"
   },
   "outputs": [],
   "source": [
    "class DQNAgent:\n",
    "    \n",
    "    def __init__(self, state_size, action_size):\n",
    "      \n",
    "        self.state_size = state_size\n",
    "        self.action_size = action_size\n",
    "        \n",
    "        self.memory = deque(maxlen=40000) #40k * 4 = 160k frames\n",
    "        \n",
    "        self.gamma = 0.999 #changed gamma from .95 to .999\n",
    "        self.alpha = 0.001\n",
    "        self.epsilon = 1.0\n",
    "        self.epsilon_decay = 0.99997 \n",
    "        self.epsilon_min = 0.01\n",
    "        \n",
    "        self.model = self._build_model()\n",
    "        \n",
    "\n",
    "    def _build_model(self):\n",
    "        \n",
    "        model = models.Sequential()\n",
    "        model.add(layers.Conv2D(16, (8,8), strides=4, input_shape = (4,84,84), data_format=\"channels_first\"))\n",
    "        model.add(layers.LeakyReLU(alpha=0.3))\n",
    "        model.add(layers.Conv2D(32, (4,4), strides=2))\n",
    "        model.add(layers.LeakyReLU(alpha=0.3))\n",
    "        model.add(layers.Flatten())\n",
    "        model.add(layers.Dense(256, activation='relu'))\n",
    "        model.add(layers.Dense(self.action_size, activation='softmax')) #movements\n",
    "        \n",
    "        return model\n",
    "    \n",
    "    def remember(self, state, action, reward, next_state, done, screen):\n",
    "        '''\n",
    "            state, action, reward at current time\n",
    "            next_state is the state that occurs after the state-action\n",
    "            done is if the episode ended\n",
    "        '''\n",
    "        self.memory.append((state, action, reward, next_state, done, screen))\n",
    "        \n",
    "    def action(self, screen):\n",
    "        \n",
    "        if np.random.rand() <= self.epsilon:\n",
    "            return random.randrange(self.action_size)\n",
    "        \n",
    "        \n",
    "        prediction = self.model.predict(screen)\n",
    "        #print(\"prediction: \",prediction)\n",
    "        \n",
    "        return np.argmax(prediction[0])\n",
    "        \n",
    "    def train(self, batch_size):\n",
    "        \n",
    "        batch = random.sample(self.memory, batch_size)\n",
    "        \n",
    "        for state, action, reward, next_state, done, screen in batch:\n",
    "            \n",
    "            target = reward\n",
    "            \n",
    "            if not done:\n",
    "                \n",
    "                target = (reward + self.gamma * \n",
    "                          np.amax(self.model.predict(screen)[0]))\n",
    "                \n",
    "            target_y = self.model.predict(screen)\n",
    "            \n",
    "            target_y[0][action] = target\n",
    "            \n",
    "            self.model.fit(screen, target_y, epochs=1, verbose=0)\n",
    "            \n",
    "        if self.epsilon > self.epsilon_min:\n",
    "            self.epsilon *= self.epsilon_decay\n",
    "    \n",
    "           \n",
    "    def load(self, name):\n",
    "        self.model.load_weights(name)\n",
    "        \n",
    "    def save(self, name):\n",
    "        self.model.save_weights(name)"
   ]
  },
  {
   "cell_type": "code",
   "execution_count": 8,
   "metadata": {
    "colab": {
     "base_uri": "https://localhost:8080/",
     "height": 453
    },
    "colab_type": "code",
    "id": "jyAVZOyPjzTr",
    "outputId": "fe4414db-35ba-48ec-e55e-6921e6f7b258"
   },
   "outputs": [
    {
     "name": "stdout",
     "output_type": "stream",
     "text": [
      "WARNING:tensorflow:From /usr/local/lib/python3.6/dist-packages/tensorflow/python/framework/op_def_library.py:263: colocate_with (from tensorflow.python.framework.ops) is deprecated and will be removed in a future version.\n",
      "Instructions for updating:\n",
      "Colocations handled automatically by placer.\n",
      "_________________________________________________________________\n",
      "Layer (type)                 Output Shape              Param #   \n",
      "=================================================================\n",
      "conv2d_1 (Conv2D)            (None, 16, 20, 20)        4112      \n",
      "_________________________________________________________________\n",
      "leaky_re_lu_1 (LeakyReLU)    (None, 16, 20, 20)        0         \n",
      "_________________________________________________________________\n",
      "conv2d_2 (Conv2D)            (None, 7, 9, 32)          10272     \n",
      "_________________________________________________________________\n",
      "leaky_re_lu_2 (LeakyReLU)    (None, 7, 9, 32)          0         \n",
      "_________________________________________________________________\n",
      "flatten_1 (Flatten)          (None, 2016)              0         \n",
      "_________________________________________________________________\n",
      "dense_1 (Dense)              (None, 256)               516352    \n",
      "_________________________________________________________________\n",
      "dense_2 (Dense)              (None, 6)                 1542      \n",
      "=================================================================\n",
      "Total params: 532,278\n",
      "Trainable params: 532,278\n",
      "Non-trainable params: 0\n",
      "_________________________________________________________________\n"
     ]
    }
   ],
   "source": [
    "agent = DQNAgent(state_size, action_size)\n",
    "agent.model.summary()\n",
    "agent.model.compile(loss='categorical_crossentropy', optimizer=optimizers.RMSprop(lr=1e-4), metrics=['accuracy'])\n"
   ]
  },
  {
   "cell_type": "markdown",
   "metadata": {
    "colab_type": "text",
    "id": "94rKT1nj1nMj"
   },
   "source": [
    "### Needed preprocessing steps"
   ]
  },
  {
   "cell_type": "code",
   "execution_count": 0,
   "metadata": {
    "colab": {},
    "colab_type": "code",
    "id": "F0YR2iCYd4OV"
   },
   "outputs": [],
   "source": [
    "def preprocessFrame(image): #210,160\n",
    "  image = cv2.cvtColor(image, cv2.COLOR_BGR2GRAY)\n",
    "  image = cv2.resize(image,(84,110)) #resize\n",
    "  image = image[18:102, :]  # crop the useless areas\n",
    "  \n",
    "  return image"
   ]
  },
  {
   "cell_type": "code",
   "execution_count": 10,
   "metadata": {
    "colab": {
     "base_uri": "https://localhost:8080/",
     "height": 55
    },
    "colab_type": "code",
    "id": "Kjt6IsGAldu_",
    "outputId": "21a3c54d-47f4-4e8f-f300-edea18fe15a8"
   },
   "outputs": [
    {
     "data": {
      "text/plain": [
       "'#env.reset()\\nenv.step(2)\\nimg = env.render(mode=\\'rgb_array\\') #get the screen\\nprint(preprocessFrame(img).shape)\\n\\nplt.imshow(preprocessFrame(img), cmap=\"gray\")'"
      ]
     },
     "execution_count": 10,
     "metadata": {
      "tags": []
     },
     "output_type": "execute_result"
    }
   ],
   "source": [
    "\"\"\"#env.reset()\n",
    "env.step(2)\n",
    "img = env.render(mode='rgb_array') #get the screen\n",
    "print(preprocessFrame(img).shape)\n",
    "\n",
    "plt.imshow(preprocessFrame(img), cmap=\"gray\")\"\"\""
   ]
  },
  {
   "cell_type": "markdown",
   "metadata": {
    "colab_type": "text",
    "id": "OVf_LPgl1u3n"
   },
   "source": [
    "## Training with the environment images\n",
    "instead of perform an action every four frames keep the same for another three and change it in the fourth"
   ]
  },
  {
   "cell_type": "code",
   "execution_count": 15,
   "metadata": {
    "colab": {
     "base_uri": "https://localhost:8080/",
     "height": 2316
    },
    "colab_type": "code",
    "id": "eHcl0-LAj38H",
    "outputId": "3ee0d0dd-e93e-4299-eb57-22758b457ea9"
   },
   "outputs": [
    {
     "name": "stdout",
     "output_type": "stream",
     "text": [
      "0  :  0.027980046601426542  :  -21.0\n",
      "100  :  0.027896230990660666  :  -21.0\n",
      "200  :  0.027812666453694217  :  -21.0\n",
      "300  :  0.027729352238423224  :  -21.0\n",
      "400  :  0.027646287594996675  :  -21.0\n",
      "500  :  0.02756347177580982  :  -21.0\n",
      "600  :  0.027480904035497362  :  -21.0\n",
      "700  :  0.027398583630926766  :  -21.0\n",
      "800  :  0.027316509821191628  :  -21.0\n",
      "900  :  0.02723468186760492  :  -20.0\n",
      "1000  :  0.027153099033692455  :  -21.0\n",
      "1100  :  0.027071760585186108  :  -21.0\n",
      "1200  :  0.026990665790017358  :  -21.0\n",
      "1300  :  0.02690981391831059  :  -21.0\n",
      "1400  :  0.026829204242376593  :  -21.0\n",
      "1500  :  0.02674883603670597  :  -21.0\n",
      "1600  :  0.026668708577962642  :  -21.0\n",
      "1700  :  0.02658882114497726  :  -21.0\n",
      "1800  :  0.026509173018740877  :  -21.0\n",
      "1900  :  0.026429763482398266  :  -21.0\n",
      "2000  :  0.026350591821241644  :  -21.0\n",
      "2100  :  0.026271657322704166  :  -21.0\n",
      "2200  :  0.026192959276353466  :  -21.0\n",
      "2300  :  0.026114496973885355  :  -21.0\n",
      "2400  :  0.026036269709117387  :  -21.0\n",
      "2500  :  0.02595827677798256  :  -21.0\n",
      "2600  :  0.0258805174785229  :  -21.0\n",
      "2700  :  0.02580299111088316  :  -21.0\n",
      "2800  :  0.025725696977304608  :  -21.0\n",
      "2900  :  0.02564863438211863  :  -21.0\n",
      "3000  :  0.025571802631740543  :  -21.0\n",
      "3100  :  0.02549520103466334  :  -21.0\n",
      "3200  :  0.02541882890145145  :  -21.0\n",
      "3300  :  0.02534268554473455  :  -21.0\n",
      "3400  :  0.02526677027920134  :  -21.0\n",
      "3500  :  0.025191082421593413  :  -21.0\n",
      "3600  :  0.02511562129069912  :  -21.0\n",
      "3700  :  0.02504038620734737  :  -21.0\n",
      "3800  :  0.024965376494401604  :  -21.0\n",
      "3900  :  0.02489059147675366  :  -21.0\n",
      "4000  :  0.024816030481317662  :  -21.0\n",
      "4100  :  0.024741692837024033  :  -21.0\n",
      "4200  :  0.024667577874813412  :  -21.0\n",
      "4300  :  0.024593684927630616  :  -21.0\n",
      "4400  :  0.02452001333041865  :  -21.0\n",
      "4500  :  0.024446562420112762  :  -21.0\n",
      "4600  :  0.02437333153563441  :  -21.0\n",
      "4700  :  0.024300320017885405  :  -21.0\n",
      "4800  :  0.02422752720974186  :  -21.0\n",
      "4900  :  0.024154952456048366  :  -21.0\n",
      "5000  :  0.02408259510361204  :  -21.0\n",
      "5100  :  0.024010454501196692  :  -21.0\n",
      "5200  :  0.023938529999516945  :  -21.0\n",
      "5300  :  0.023866820951232364  :  -21.0\n",
      "5400  :  0.023795326710941676  :  -21.0\n",
      "5500  :  0.023724046635176924  :  -21.0\n",
      "5600  :  0.023652980082397693  :  -21.0\n",
      "5700  :  0.02358212641298537  :  -21.0\n",
      "5800  :  0.023511484989237313  :  -21.0\n",
      "5900  :  0.023441055175361134  :  -21.0\n",
      "6000  :  0.023370836337469017  :  -21.0\n",
      "6100  :  0.023300827843572014  :  -21.0\n",
      "6200  :  0.02323102906357427  :  -21.0\n",
      "6300  :  0.023161439369267487  :  -21.0\n",
      "6400  :  0.023092058134325116  :  -21.0\n",
      "6500  :  0.023022884734296874  :  -21.0\n",
      "6600  :  0.022953918546603003  :  -21.0\n",
      "6700  :  0.022885158950528707  :  -21.0\n",
      "6800  :  0.022816605327218617  :  -21.0\n",
      "6900  :  0.02274825705967115  :  -21.0\n",
      "7000  :  0.022680113532732978  :  -21.0\n",
      "7100  :  0.022612174133093528  :  -21.0\n",
      "7200  :  0.022544438249279337  :  -21.0\n",
      "7300  :  0.02247690527164876  :  -20.0\n",
      "7400  :  0.022409574592386274  :  -21.0\n",
      "7500  :  0.022342445605497155  :  -21.0\n",
      "7600  :  0.02227551770680192  :  -21.0\n",
      "7700  :  0.02220879029393098  :  -21.0\n",
      "7800  :  0.02214226276631914  :  -21.0\n",
      "7900  :  0.022075934525200253  :  -21.0\n",
      "8000  :  0.022009804973601773  :  -21.0\n",
      "8100  :  0.021943873516339443  :  -21.0\n",
      "8200  :  0.021878139560011903  :  -21.0\n",
      "8300  :  0.021812602512995338  :  -21.0\n",
      "8400  :  0.021747261785438208  :  -21.0\n"
     ]
    },
    {
     "ename": "KeyboardInterrupt",
     "evalue": "ignored",
     "output_type": "error",
     "traceback": [
      "\u001b[0;31m---------------------------------------------------------------------------\u001b[0m",
      "\u001b[0;31mKeyboardInterrupt\u001b[0m                         Traceback (most recent call last)",
      "\u001b[0;32m<ipython-input-15-220cb96c869b>\u001b[0m in \u001b[0;36m<module>\u001b[0;34m()\u001b[0m\n\u001b[1;32m     13\u001b[0m \u001b[0;34m\u001b[0m\u001b[0m\n\u001b[1;32m     14\u001b[0m             \u001b[0mnext_state\u001b[0m\u001b[0;34m,\u001b[0m \u001b[0mreward\u001b[0m\u001b[0;34m,\u001b[0m \u001b[0mdone\u001b[0m\u001b[0;34m,\u001b[0m \u001b[0minfo\u001b[0m \u001b[0;34m=\u001b[0m \u001b[0menv\u001b[0m\u001b[0;34m.\u001b[0m\u001b[0mstep\u001b[0m\u001b[0;34m(\u001b[0m\u001b[0maction\u001b[0m\u001b[0;34m)\u001b[0m\u001b[0;34m\u001b[0m\u001b[0;34m\u001b[0m\u001b[0m\n\u001b[0;32m---> 15\u001b[0;31m             \u001b[0mscreen\u001b[0m \u001b[0;34m=\u001b[0m \u001b[0menv\u001b[0m\u001b[0;34m.\u001b[0m\u001b[0mrender\u001b[0m\u001b[0;34m(\u001b[0m\u001b[0mmode\u001b[0m\u001b[0;34m=\u001b[0m\u001b[0;34m'rgb_array'\u001b[0m\u001b[0;34m)\u001b[0m \u001b[0;31m#get the screen\u001b[0m\u001b[0;34m\u001b[0m\u001b[0;34m\u001b[0m\u001b[0m\n\u001b[0m\u001b[1;32m     16\u001b[0m             \u001b[0mscreen\u001b[0m \u001b[0;34m=\u001b[0m \u001b[0mpreprocessFrame\u001b[0m\u001b[0;34m(\u001b[0m\u001b[0mscreen\u001b[0m\u001b[0;34m)\u001b[0m\u001b[0;34m\u001b[0m\u001b[0;34m\u001b[0m\u001b[0m\n\u001b[1;32m     17\u001b[0m             \u001b[0mframes_pack\u001b[0m\u001b[0;34m.\u001b[0m\u001b[0mappend\u001b[0m\u001b[0;34m(\u001b[0m\u001b[0mscreen\u001b[0m\u001b[0;34m)\u001b[0m \u001b[0;31m#stack images\u001b[0m\u001b[0;34m\u001b[0m\u001b[0;34m\u001b[0m\u001b[0m\n",
      "\u001b[0;32m/usr/local/lib/python3.6/dist-packages/gym/core.py\u001b[0m in \u001b[0;36mrender\u001b[0;34m(self, mode, **kwargs)\u001b[0m\n\u001b[1;32m    274\u001b[0m \u001b[0;34m\u001b[0m\u001b[0m\n\u001b[1;32m    275\u001b[0m     \u001b[0;32mdef\u001b[0m \u001b[0mrender\u001b[0m\u001b[0;34m(\u001b[0m\u001b[0mself\u001b[0m\u001b[0;34m,\u001b[0m \u001b[0mmode\u001b[0m\u001b[0;34m=\u001b[0m\u001b[0;34m'human'\u001b[0m\u001b[0;34m,\u001b[0m \u001b[0;34m**\u001b[0m\u001b[0mkwargs\u001b[0m\u001b[0;34m)\u001b[0m\u001b[0;34m:\u001b[0m\u001b[0;34m\u001b[0m\u001b[0;34m\u001b[0m\u001b[0m\n\u001b[0;32m--> 276\u001b[0;31m         \u001b[0;32mreturn\u001b[0m \u001b[0mself\u001b[0m\u001b[0;34m.\u001b[0m\u001b[0menv\u001b[0m\u001b[0;34m.\u001b[0m\u001b[0mrender\u001b[0m\u001b[0;34m(\u001b[0m\u001b[0mmode\u001b[0m\u001b[0;34m,\u001b[0m \u001b[0;34m**\u001b[0m\u001b[0mkwargs\u001b[0m\u001b[0;34m)\u001b[0m\u001b[0;34m\u001b[0m\u001b[0;34m\u001b[0m\u001b[0m\n\u001b[0m\u001b[1;32m    277\u001b[0m \u001b[0;34m\u001b[0m\u001b[0m\n\u001b[1;32m    278\u001b[0m     \u001b[0;32mdef\u001b[0m \u001b[0mclose\u001b[0m\u001b[0;34m(\u001b[0m\u001b[0mself\u001b[0m\u001b[0;34m)\u001b[0m\u001b[0;34m:\u001b[0m\u001b[0;34m\u001b[0m\u001b[0;34m\u001b[0m\u001b[0m\n",
      "\u001b[0;32m/usr/local/lib/python3.6/dist-packages/gym/core.py\u001b[0m in \u001b[0;36mrender\u001b[0;34m(self, mode, **kwargs)\u001b[0m\n\u001b[1;32m    274\u001b[0m \u001b[0;34m\u001b[0m\u001b[0m\n\u001b[1;32m    275\u001b[0m     \u001b[0;32mdef\u001b[0m \u001b[0mrender\u001b[0m\u001b[0;34m(\u001b[0m\u001b[0mself\u001b[0m\u001b[0;34m,\u001b[0m \u001b[0mmode\u001b[0m\u001b[0;34m=\u001b[0m\u001b[0;34m'human'\u001b[0m\u001b[0;34m,\u001b[0m \u001b[0;34m**\u001b[0m\u001b[0mkwargs\u001b[0m\u001b[0;34m)\u001b[0m\u001b[0;34m:\u001b[0m\u001b[0;34m\u001b[0m\u001b[0;34m\u001b[0m\u001b[0m\n\u001b[0;32m--> 276\u001b[0;31m         \u001b[0;32mreturn\u001b[0m \u001b[0mself\u001b[0m\u001b[0;34m.\u001b[0m\u001b[0menv\u001b[0m\u001b[0;34m.\u001b[0m\u001b[0mrender\u001b[0m\u001b[0;34m(\u001b[0m\u001b[0mmode\u001b[0m\u001b[0;34m,\u001b[0m \u001b[0;34m**\u001b[0m\u001b[0mkwargs\u001b[0m\u001b[0;34m)\u001b[0m\u001b[0;34m\u001b[0m\u001b[0;34m\u001b[0m\u001b[0m\n\u001b[0m\u001b[1;32m    277\u001b[0m \u001b[0;34m\u001b[0m\u001b[0m\n\u001b[1;32m    278\u001b[0m     \u001b[0;32mdef\u001b[0m \u001b[0mclose\u001b[0m\u001b[0;34m(\u001b[0m\u001b[0mself\u001b[0m\u001b[0;34m)\u001b[0m\u001b[0;34m:\u001b[0m\u001b[0;34m\u001b[0m\u001b[0;34m\u001b[0m\u001b[0m\n",
      "\u001b[0;32m/usr/local/lib/python3.6/dist-packages/gym/envs/atari/atari_env.py\u001b[0m in \u001b[0;36mrender\u001b[0;34m(self, mode)\u001b[0m\n\u001b[1;32m    103\u001b[0m \u001b[0;34m\u001b[0m\u001b[0m\n\u001b[1;32m    104\u001b[0m     \u001b[0;32mdef\u001b[0m \u001b[0mrender\u001b[0m\u001b[0;34m(\u001b[0m\u001b[0mself\u001b[0m\u001b[0;34m,\u001b[0m \u001b[0mmode\u001b[0m\u001b[0;34m=\u001b[0m\u001b[0;34m'human'\u001b[0m\u001b[0;34m)\u001b[0m\u001b[0;34m:\u001b[0m\u001b[0;34m\u001b[0m\u001b[0;34m\u001b[0m\u001b[0m\n\u001b[0;32m--> 105\u001b[0;31m         \u001b[0mimg\u001b[0m \u001b[0;34m=\u001b[0m \u001b[0mself\u001b[0m\u001b[0;34m.\u001b[0m\u001b[0m_get_image\u001b[0m\u001b[0;34m(\u001b[0m\u001b[0;34m)\u001b[0m\u001b[0;34m\u001b[0m\u001b[0;34m\u001b[0m\u001b[0m\n\u001b[0m\u001b[1;32m    106\u001b[0m         \u001b[0;32mif\u001b[0m \u001b[0mmode\u001b[0m \u001b[0;34m==\u001b[0m \u001b[0;34m'rgb_array'\u001b[0m\u001b[0;34m:\u001b[0m\u001b[0;34m\u001b[0m\u001b[0;34m\u001b[0m\u001b[0m\n\u001b[1;32m    107\u001b[0m             \u001b[0;32mreturn\u001b[0m \u001b[0mimg\u001b[0m\u001b[0;34m\u001b[0m\u001b[0;34m\u001b[0m\u001b[0m\n",
      "\u001b[0;32m/usr/local/lib/python3.6/dist-packages/gym/envs/atari/atari_env.py\u001b[0m in \u001b[0;36m_get_image\u001b[0;34m(self)\u001b[0m\n\u001b[1;32m     81\u001b[0m \u001b[0;34m\u001b[0m\u001b[0m\n\u001b[1;32m     82\u001b[0m     \u001b[0;32mdef\u001b[0m \u001b[0m_get_image\u001b[0m\u001b[0;34m(\u001b[0m\u001b[0mself\u001b[0m\u001b[0;34m)\u001b[0m\u001b[0;34m:\u001b[0m\u001b[0;34m\u001b[0m\u001b[0;34m\u001b[0m\u001b[0m\n\u001b[0;32m---> 83\u001b[0;31m         \u001b[0;32mreturn\u001b[0m \u001b[0mself\u001b[0m\u001b[0;34m.\u001b[0m\u001b[0male\u001b[0m\u001b[0;34m.\u001b[0m\u001b[0mgetScreenRGB2\u001b[0m\u001b[0;34m(\u001b[0m\u001b[0;34m)\u001b[0m\u001b[0;34m\u001b[0m\u001b[0;34m\u001b[0m\u001b[0m\n\u001b[0m\u001b[1;32m     84\u001b[0m \u001b[0;34m\u001b[0m\u001b[0m\n\u001b[1;32m     85\u001b[0m     \u001b[0;32mdef\u001b[0m \u001b[0m_get_ram\u001b[0m\u001b[0;34m(\u001b[0m\u001b[0mself\u001b[0m\u001b[0;34m)\u001b[0m\u001b[0;34m:\u001b[0m\u001b[0;34m\u001b[0m\u001b[0;34m\u001b[0m\u001b[0m\n",
      "\u001b[0;32m/usr/local/lib/python3.6/dist-packages/atari_py/ale_python_interface.py\u001b[0m in \u001b[0;36mgetScreenRGB2\u001b[0;34m(self, screen_data)\u001b[0m\n\u001b[1;32m    219\u001b[0m             \u001b[0mscreen_data\u001b[0m \u001b[0;34m=\u001b[0m \u001b[0mnp\u001b[0m\u001b[0;34m.\u001b[0m\u001b[0mempty\u001b[0m\u001b[0;34m(\u001b[0m\u001b[0;34m(\u001b[0m\u001b[0mheight\u001b[0m\u001b[0;34m,\u001b[0m \u001b[0mwidth\u001b[0m\u001b[0;34m,\u001b[0m \u001b[0;36m3\u001b[0m\u001b[0;34m)\u001b[0m\u001b[0;34m,\u001b[0m \u001b[0mdtype\u001b[0m\u001b[0;34m=\u001b[0m\u001b[0mnp\u001b[0m\u001b[0;34m.\u001b[0m\u001b[0muint8\u001b[0m\u001b[0;34m)\u001b[0m\u001b[0;34m\u001b[0m\u001b[0;34m\u001b[0m\u001b[0m\n\u001b[1;32m    220\u001b[0m         \u001b[0;32massert\u001b[0m \u001b[0mscreen_data\u001b[0m\u001b[0;34m.\u001b[0m\u001b[0mstrides\u001b[0m \u001b[0;34m==\u001b[0m \u001b[0;34m(\u001b[0m\u001b[0;36m480\u001b[0m\u001b[0;34m,\u001b[0m \u001b[0;36m3\u001b[0m\u001b[0;34m,\u001b[0m \u001b[0;36m1\u001b[0m\u001b[0;34m)\u001b[0m\u001b[0;34m\u001b[0m\u001b[0;34m\u001b[0m\u001b[0m\n\u001b[0;32m--> 221\u001b[0;31m         \u001b[0male_lib\u001b[0m\u001b[0;34m.\u001b[0m\u001b[0mgetScreenRGB2\u001b[0m\u001b[0;34m(\u001b[0m\u001b[0mself\u001b[0m\u001b[0;34m.\u001b[0m\u001b[0mobj\u001b[0m\u001b[0;34m,\u001b[0m \u001b[0mas_ctypes\u001b[0m\u001b[0;34m(\u001b[0m\u001b[0mscreen_data\u001b[0m\u001b[0;34m[\u001b[0m\u001b[0;34m:\u001b[0m\u001b[0;34m]\u001b[0m\u001b[0;34m)\u001b[0m\u001b[0;34m)\u001b[0m\u001b[0;34m\u001b[0m\u001b[0;34m\u001b[0m\u001b[0m\n\u001b[0m\u001b[1;32m    222\u001b[0m         \u001b[0;32mreturn\u001b[0m \u001b[0mscreen_data\u001b[0m\u001b[0;34m\u001b[0m\u001b[0;34m\u001b[0m\u001b[0m\n\u001b[1;32m    223\u001b[0m \u001b[0;34m\u001b[0m\u001b[0m\n",
      "\u001b[0;31mKeyboardInterrupt\u001b[0m: "
     ]
    }
   ],
   "source": [
    "#agent.load('12_10000_pong2_fixed2.hdf5')\n",
    "#agent.epsilon =0.037770415418562506 \n",
    "batch_size = 32\n",
    "frames_pack = []\n",
    "try:\n",
    "    for e in range(10001): #epochs\n",
    "        \n",
    "        state = env.reset()\n",
    "        \n",
    "        total_reward = 0\n",
    "        done = False\n",
    "        action = 0 \n",
    "        \n",
    "        while not done:\n",
    "                          \n",
    "            next_state, reward, done, info = env.step(action)\n",
    "            screen = env.render(mode='rgb_array') #get the screen\n",
    "            screen = preprocessFrame(screen)\n",
    "            frames_pack.append(screen) #stack images \n",
    "            screen = np.expand_dims(screen, axis=2)\n",
    "            screen = np.expand_dims(screen, axis=0)\n",
    "            \n",
    "            if len(frames_pack) == 4: \n",
    "              frames_pack = np.array(frames_pack) # 4,84,84\n",
    "              frames_pack = np.expand_dims(frames_pack, axis=0) #1,4,84,84\n",
    "\n",
    "              # Define the reward for this problem\n",
    "              reward = reward if not done else -1\n",
    "              total_reward += reward\n",
    "\n",
    "              agent.remember(state,action,reward,next_state,done,frames_pack)\n",
    "\n",
    "              state = next_state\n",
    "\n",
    "\n",
    "              # Takes a new action for the next 4 frames\n",
    "              action = agent.action(frames_pack)        \n",
    "\n",
    "              #Clear the frames stored\n",
    "              frames_pack = []\n",
    "            else:\n",
    "              #safe data\n",
    "              reward = reward if not done else -1\n",
    "              total_reward += reward\n",
    "              state = next_state\n",
    "              \n",
    "            \n",
    "        \n",
    "        if e % 100 == 0:\n",
    "            agent.save('14_{:05d}_pong2_fixed2'.format(e) + '.hdf5')\n",
    "            print(e, \" : \",agent.epsilon, \" : \",total_reward)\n",
    "        if len(agent.memory) > batch_size:\n",
    "          agent.train(batch_size)\n",
    "                \n",
    "        \n",
    "finally:\n",
    "    env.close()"
   ]
  },
  {
   "cell_type": "code",
   "execution_count": 13,
   "metadata": {
    "colab": {
     "base_uri": "https://localhost:8080/",
     "height": 971
    },
    "colab_type": "code",
    "id": "yoWQOzwWkzXs",
    "outputId": "8af51c0d-fe29-440b-a1c3-af9adf6cf910"
   },
   "outputs": [
    {
     "name": "stdout",
     "output_type": "stream",
     "text": [
      "12_00000_pong2_fixed2.hdf5  13_04900_pong2_fixed2.hdf5\n",
      "12_00100_pong2_fixed2.hdf5  13_05000_pong2_fixed2.hdf5\n",
      "12_00200_pong2_fixed2.hdf5  13_05100_pong2_fixed2.hdf5\n",
      "12_00300_pong2_fixed2.hdf5  13_05200_pong2_fixed2.hdf5\n",
      "12_00400_pong2_fixed2.hdf5  13_05300_pong2_fixed2.hdf5\n",
      "12_10000_pong2_fixed2.hdf5  13_05400_pong2_fixed2.hdf5\n",
      "13_00000_pong2_fixed2.hdf5  13_05500_pong2_fixed2.hdf5\n",
      "13_00100_pong2_fixed2.hdf5  13_05600_pong2_fixed2.hdf5\n",
      "13_00200_pong2_fixed2.hdf5  13_05700_pong2_fixed2.hdf5\n",
      "13_00300_pong2_fixed2.hdf5  13_05800_pong2_fixed2.hdf5\n",
      "13_00400_pong2_fixed2.hdf5  13_05900_pong2_fixed2.hdf5\n",
      "13_00500_pong2_fixed2.hdf5  13_06000_pong2_fixed2.hdf5\n",
      "13_00600_pong2_fixed2.hdf5  13_06100_pong2_fixed2.hdf5\n",
      "13_00700_pong2_fixed2.hdf5  13_06200_pong2_fixed2.hdf5\n",
      "13_00800_pong2_fixed2.hdf5  13_06300_pong2_fixed2.hdf5\n",
      "13_00900_pong2_fixed2.hdf5  13_06400_pong2_fixed2.hdf5\n",
      "13_01000_pong2_fixed2.hdf5  13_06500_pong2_fixed2.hdf5\n",
      "13_01100_pong2_fixed2.hdf5  13_06600_pong2_fixed2.hdf5\n",
      "13_01200_pong2_fixed2.hdf5  13_06700_pong2_fixed2.hdf5\n",
      "13_01300_pong2_fixed2.hdf5  13_06800_pong2_fixed2.hdf5\n",
      "13_01400_pong2_fixed2.hdf5  13_06900_pong2_fixed2.hdf5\n",
      "13_01500_pong2_fixed2.hdf5  13_07000_pong2_fixed2.hdf5\n",
      "13_01600_pong2_fixed2.hdf5  13_07100_pong2_fixed2.hdf5\n",
      "13_01700_pong2_fixed2.hdf5  13_07200_pong2_fixed2.hdf5\n",
      "13_01800_pong2_fixed2.hdf5  13_07300_pong2_fixed2.hdf5\n",
      "13_01900_pong2_fixed2.hdf5  13_07400_pong2_fixed2.hdf5\n",
      "13_02000_pong2_fixed2.hdf5  13_07500_pong2_fixed2.hdf5\n",
      "13_02100_pong2_fixed2.hdf5  13_07600_pong2_fixed2.hdf5\n",
      "13_02200_pong2_fixed2.hdf5  13_07700_pong2_fixed2.hdf5\n",
      "13_02300_pong2_fixed2.hdf5  13_07800_pong2_fixed2.hdf5\n",
      "13_02400_pong2_fixed2.hdf5  13_07900_pong2_fixed2.hdf5\n",
      "13_02500_pong2_fixed2.hdf5  13_08000_pong2_fixed2.hdf5\n",
      "13_02600_pong2_fixed2.hdf5  13_08100_pong2_fixed2.hdf5\n",
      "13_02700_pong2_fixed2.hdf5  13_08200_pong2_fixed2.hdf5\n",
      "13_02800_pong2_fixed2.hdf5  13_08300_pong2_fixed2.hdf5\n",
      "13_02900_pong2_fixed2.hdf5  13_08400_pong2_fixed2.hdf5\n",
      "13_03000_pong2_fixed2.hdf5  13_08500_pong2_fixed2.hdf5\n",
      "13_03100_pong2_fixed2.hdf5  13_08600_pong2_fixed2.hdf5\n",
      "13_03200_pong2_fixed2.hdf5  13_08700_pong2_fixed2.hdf5\n",
      "13_03300_pong2_fixed2.hdf5  13_08800_pong2_fixed2.hdf5\n",
      "13_03400_pong2_fixed2.hdf5  13_08900_pong2_fixed2.hdf5\n",
      "13_03500_pong2_fixed2.hdf5  13_09000_pong2_fixed2.hdf5\n",
      "13_03600_pong2_fixed2.hdf5  13_09100_pong2_fixed2.hdf5\n",
      "13_03700_pong2_fixed2.hdf5  13_09200_pong2_fixed2.hdf5\n",
      "13_03800_pong2_fixed2.hdf5  13_09300_pong2_fixed2.hdf5\n",
      "13_03900_pong2_fixed2.hdf5  13_09400_pong2_fixed2.hdf5\n",
      "13_04000_pong2_fixed2.hdf5  13_09500_pong2_fixed2.hdf5\n",
      "13_04100_pong2_fixed2.hdf5  13_09600_pong2_fixed2.hdf5\n",
      "13_04200_pong2_fixed2.hdf5  13_09700_pong2_fixed2.hdf5\n",
      "13_04300_pong2_fixed2.hdf5  13_09800_pong2_fixed2.hdf5\n",
      "13_04400_pong2_fixed2.hdf5  13_09900_pong2_fixed2.hdf5\n",
      "13_04500_pong2_fixed2.hdf5  13_10000_pong2_fixed2.hdf5\n",
      "13_04600_pong2_fixed2.hdf5  sample_data\n",
      "13_04700_pong2_fixed2.hdf5  video\n",
      "13_04800_pong2_fixed2.hdf5\n"
     ]
    }
   ],
   "source": [
    "#!rm *\n",
    "\n",
    "!ls"
   ]
  },
  {
   "cell_type": "markdown",
   "metadata": {
    "colab_type": "text",
    "id": "25FqNG8u2dDa"
   },
   "source": [
    "### Test your model"
   ]
  },
  {
   "cell_type": "code",
   "execution_count": 14,
   "metadata": {
    "colab": {
     "base_uri": "https://localhost:8080/",
     "height": 456
    },
    "colab_type": "code",
    "id": "o1Ti62JUgiNm",
    "outputId": "c16642fc-0686-40ba-8e9e-143b65ece49d"
   },
   "outputs": [
    {
     "name": "stdout",
     "output_type": "stream",
     "text": [
      "0.027980046601426542\n"
     ]
    },
    {
     "data": {
      "text/html": [
       "<video alt=\"test\" autoplay \n",
       "                loop controls style=\"height: 400px;\">\n",
       "                <source src=\"data:video/mp4;base64,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\" type=\"video/mp4\" />\n",
       "             </video>"
      ],
      "text/plain": [
       "<IPython.core.display.HTML object>"
      ]
     },
     "metadata": {
      "tags": []
     },
     "output_type": "display_data"
    },
    {
     "name": "stdout",
     "output_type": "stream",
     "text": [
      "-21.0\n"
     ]
    }
   ],
   "source": [
    "#1_10000  :  0.7408148869407416  :  -20.0\n",
    "#2_10000  :  0.5487902325121208  :  -21.0\n",
    "#3_6300  :  0.4542662331726328  :  -21.0\n",
    "#4_5800  :  0.38171751014207483  :  -21.0\n",
    "#5_10000  :  0.28278201411920023  :  -20.0\n",
    "#6_10000  :  0.2094828411448149  :  -20.0\n",
    "#7_10000  :  0.15518335163850305  :  -21.0\n",
    "#8_7100  :  0.1254119773205814  :  -21.0\n",
    "#9_10000  :  0.09290705979976088  :  -21.0\n",
    "#10_10000  :  0.06882486819356542  :  -20.0\n",
    "#11_10000  :  0.05098648694952733  :  -21.0\n",
    "#12_10000  :  0.037770415418562506  :  -21.0\n",
    "#13_10000  :  0.02798088602800738  :  -21.0\n",
    "#14_8400  :  0.021747261785438208  :  -21.0\n",
    "#agent.load('8_9900_pong2_fixed.hdf5')\n",
    "print(agent.epsilon)\n",
    "env = wrap_env(gym.make('Pong-v0'))\n",
    "frames_pack= []\n",
    "\n",
    "try:\n",
    "      action = 0 #do nothing in context of pong\n",
    "\n",
    "      state = env.reset()\n",
    "\n",
    "      total_reward = 0\n",
    "      done = False\n",
    "\n",
    "      while not done:\n",
    "      #for time in range(200):\n",
    "\n",
    "          #env.render()\n",
    "\n",
    "          # Makes an action, screen capture and preprocess\n",
    "          next_state, reward, done, info = env.step(action)\n",
    "          screen = env.render(mode='rgb_array') #get the screen\n",
    "          screen = preprocessFrame(screen) #84x84\n",
    "          frames_pack.append(screen) #stack images \n",
    "          \n",
    "          if len(frames_pack) == 4: #all the images for a single input\n",
    "            \n",
    "            frames_pack = np.array(frames_pack) # 4,84,84\n",
    "            frames_pack = np.expand_dims(frames_pack, axis=0) #1,4,84,84\n",
    "            \n",
    "            # Define the reward for this problem\n",
    "            reward = reward if not done else -1\n",
    "            total_reward += reward\n",
    "            \n",
    "            agent.remember(state,action,reward,next_state,done,frames_pack)\n",
    "            \n",
    "            state = next_state\n",
    "\n",
    "\n",
    "            # Takes a new action for the next 4 frames\n",
    "            action = agent.action(frames_pack)        \n",
    "            \n",
    "            #Clear the frames stored\n",
    "            frames_pack = []\n",
    "            \n",
    "            \n",
    "          else:\n",
    "            #safe data\n",
    "            reward = reward if not done else -1\n",
    "            total_reward += reward\n",
    "            state = next_state\n",
    "        \n",
    "finally:\n",
    "    env.close()       \n",
    "    show_video()\n",
    "    print(total_reward)"
   ]
  },
  {
   "cell_type": "markdown",
   "metadata": {
    "colab_type": "text",
    "id": "ca3zSLF02x1E"
   },
   "source": [
    "## Train and test your agent with another atari environment"
   ]
  },
  {
   "cell_type": "code",
   "execution_count": 0,
   "metadata": {
    "colab": {},
    "colab_type": "code",
    "id": "tF6zg3meqR8f"
   },
   "outputs": [],
   "source": [
    "# Loads the pong environment\n",
    "env = wrap_env(gym.make('Breakout-v0'))\n",
    "\n",
    "state_size = env.observation_space.shape[0]\n",
    "action_size = env.action_space.n\n",
    "\n",
    "print(state_size, action_size)"
   ]
  },
  {
   "cell_type": "code",
   "execution_count": 0,
   "metadata": {
    "colab": {},
    "colab_type": "code",
    "id": "Yxgv2loD97sd"
   },
   "outputs": [],
   "source": [
    "agent2 = DQNAgent(state_size, action_size)\n",
    "agent2.model.summary()\n",
    "agent2.model.compile(loss='categorical_crossentropy', optimizer=optimizers.RMSprop(lr=1e-4), metrics=['accuracy'])\n"
   ]
  },
  {
   "cell_type": "markdown",
   "metadata": {
    "colab_type": "text",
    "id": "-rnMCKYw9_14"
   },
   "source": [
    "###Train  another enviroment###"
   ]
  },
  {
   "cell_type": "code",
   "execution_count": 0,
   "metadata": {
    "colab": {},
    "colab_type": "code",
    "id": "6oEL1c8y991H"
   },
   "outputs": [],
   "source": [
    "#agent2.load('11_10000_breakout.hdf5') #if you load weights you must also define the epsilon value\n",
    "#agent2.epsilon = 0.041081479346882256\n",
    "batch_size = 32\n",
    "frames_pack = []\n",
    "try:\n",
    "    for e in range(10001): #epochs\n",
    "        \n",
    "        state = env.reset()\n",
    "        \n",
    "        total_reward = 0\n",
    "        done = False\n",
    "        action = 0 \n",
    "        \n",
    "        while not done:\n",
    "                          \n",
    "            next_state, reward, done, info = env.step(action)\n",
    "            screen = env.render(mode='rgb_array') #get the screen\n",
    "            screen = preprocessFrame(screen)\n",
    "            frames_pack.append(screen) #stack images \n",
    "            screen = np.expand_dims(screen, axis=2)\n",
    "            screen = np.expand_dims(screen, axis=0)\n",
    "            \n",
    "            if len(frames_pack) == 4: \n",
    "              frames_pack = np.array(frames_pack) # 4,84,84\n",
    "              frames_pack = np.expand_dims(frames_pack, axis=0) #1,4,84,84\n",
    "\n",
    "              # Define the reward for this problem\n",
    "              reward = reward if not done else -1\n",
    "              total_reward += reward\n",
    "\n",
    "              agent2.remember(state,action,reward,next_state,done,frames_pack)\n",
    "\n",
    "              state = next_state\n",
    "\n",
    "\n",
    "              # Takes a new action for the next 4 frames\n",
    "              action = agent2.action(frames_pack)        \n",
    "\n",
    "              #Clear the frames stored\n",
    "              frames_pack = []\n",
    "            else:\n",
    "              #safe data\n",
    "              reward = reward if not done else -1\n",
    "              total_reward += reward\n",
    "              state = next_state\n",
    "              \n",
    "            \n",
    "        \n",
    "        if e % 100 == 0:\n",
    "            agent2.save('12_{:05d}_breakout'.format(e) + '.hdf5')\n",
    "            print(e, \" : \",agent2.epsilon, \" : \",total_reward)\n",
    "        if len(agent2.memory) > batch_size:\n",
    "          agent2.train(batch_size)\n",
    "                \n",
    "        \n",
    "finally:\n",
    "    env.close()"
   ]
  },
  {
   "cell_type": "markdown",
   "metadata": {
    "colab_type": "text",
    "id": "Z97kn6te-Cpo"
   },
   "source": [
    "###Test another enviroment###"
   ]
  },
  {
   "cell_type": "code",
   "execution_count": 0,
   "metadata": {
    "colab": {},
    "colab_type": "code",
    "id": "R82hzn-A-Grd"
   },
   "outputs": [],
   "source": [
    "#1_10000  :  0.7408148869407416  :  2.0\n",
    "#2_10000  0.5487737688051454 \n",
    "#3_10000  :  0.4065397774934281  :  0.0\n",
    "#4_10000  :  0.30116168417912753  :  0.0\n",
    "#5_10000  :  0.2230983658642711  :  0.0\n",
    "#6_10000  :  0.1652745906844041  :  0.0\n",
    "#7_10000  :  0.1224378772120437  :  0.0\n",
    "#8_10000  :  0.09070108105003913  :  1.0\n",
    "#9_6400  :  0.07485600958029996  :  1.0\n",
    "#10_10000  :  0.05545444627406444  :  1.0\n",
    "#11_10000  :  0.041081479346882256  :  -1.0\n",
    "#12_04500  :  0.0358934694952554  :  -1.0\n",
    "print(agent2.epsilon)\n",
    "env = wrap_env(gym.make('Breakout-v0'))\n",
    "frames_pack= []\n",
    "\n",
    "try:\n",
    "      action = 0 #do nothing in context of pong\n",
    "\n",
    "      state = env.reset()\n",
    "\n",
    "      total_reward = 0\n",
    "      done = False\n",
    "\n",
    "      while not done:\n",
    "\n",
    "          # Makes an action, screen capture and preprocess\n",
    "          next_state, reward, done, info = env.step(action)\n",
    "          screen = env.render(mode='rgb_array') #get the screen\n",
    "          screen = preprocessFrame(screen) #84x84\n",
    "          frames_pack.append(screen) #stack images \n",
    "          \n",
    "          if len(frames_pack) == 4: #all the images for a single input\n",
    "            \n",
    "            frames_pack = np.array(frames_pack) # 4,84,84\n",
    "            frames_pack = np.expand_dims(frames_pack, axis=0) #1,4,84,84\n",
    "            \n",
    "            # Define the reward for this problem\n",
    "            reward = reward if not done else -1\n",
    "            total_reward += reward\n",
    "            \n",
    "            agent2.remember(state,action,reward,next_state,done,frames_pack)\n",
    "            \n",
    "            state = next_state\n",
    "\n",
    "\n",
    "            # Takes a new action for the next 4 frames\n",
    "            action = agent2.action(frames_pack)        \n",
    "            \n",
    "            #Clear the frames stored\n",
    "            frames_pack = []\n",
    "            \n",
    "            \n",
    "          else:\n",
    "            #safe data\n",
    "            reward = reward if not done else -1\n",
    "            total_reward += reward\n",
    "            state = next_state\n",
    "        \n",
    "finally:\n",
    "    env.close()       \n",
    "    show_video()\n",
    "    print(total_reward)"
   ]
  }
 ],
 "metadata": {
  "accelerator": "GPU",
  "colab": {
   "collapsed_sections": [],
   "name": "Pong_leaky_fixed.ipynb",
   "provenance": [],
   "toc_visible": true,
   "version": "0.3.2"
  },
  "kernelspec": {
   "display_name": "Python 3",
   "language": "python",
   "name": "python3"
  },
  "language_info": {
   "codemirror_mode": {
    "name": "ipython",
    "version": 3
   },
   "file_extension": ".py",
   "mimetype": "text/x-python",
   "name": "python",
   "nbconvert_exporter": "python",
   "pygments_lexer": "ipython3",
   "version": "3.6.8"
  }
 },
 "nbformat": 4,
 "nbformat_minor": 1
}
