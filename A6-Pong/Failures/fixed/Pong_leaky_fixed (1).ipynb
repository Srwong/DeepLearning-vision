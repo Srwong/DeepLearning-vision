{
  "nbformat": 4,
  "nbformat_minor": 0,
  "metadata": {
    "colab": {
      "name": "Pong_leaky_fixed.ipynb",
      "version": "0.3.2",
      "provenance": [],
      "collapsed_sections": [],
      "toc_visible": true
    },
    "kernelspec": {
      "name": "python3",
      "display_name": "Python 3"
    },
    "accelerator": "GPU"
  },
  "cells": [
    {
      "metadata": {
        "colab_type": "text",
        "id": "tAX6dynh1ENW"
      },
      "cell_type": "markdown",
      "source": [
        "# Playing Pong with Deep Reinforcement Learning\n",
        "\n",
        "---\n",
        "\n",
        "Read the paper [Playing Atari with Deep Reinforcement Learning](https://arxiv.org/pdf/1312.5602.pdf) (the paper is also inside the 'Papers' folder in the course materials), and implement a model that can play atari games.\n",
        "\n",
        "The goals of this project are the following:\n",
        "\n",
        "- Read and understand the paper.\n",
        "- Add a brief summary of the paper at the start of the notebook.\n",
        "- Mention and implement the preprocessing needed; you can add your own steps if needed.\n",
        "- Load an Atari environment from OpenAI Gym; start with Pong, and try with at least one more.\n",
        "- Define the convolutional model needed for training.\n",
        "- Apply deep q learning with your model.\n",
        "- Use the model to play a game and show the result.\n",
        "\n",
        "**Rubric:**\n",
        "\n",
        "1. A summary of the paper was included. The summary covered what the paper does, and why, as well as the preprocessing steps and the model they introduced.\n",
        "2. Read images from the environment, and performed the correct preprocessing steps.\n",
        "3. Defined an agent class with the needed functions.\n",
        "4. Defined the model within the agent class.\n",
        "5. Trained the model with the Pong environment. Save the weights after each episode.\n",
        "6. Test the model by making it play Pong.\n",
        "7. Train and test the agent with another Atari environment of your choosing.\n"
      ]
    },
    {
      "metadata": {
        "colab_type": "text",
        "id": "ahIZHdp12nY-"
      },
      "cell_type": "markdown",
      "source": [
        "## Add a summary of the paper in this cell"
      ]
    },
    {
      "metadata": {
        "id": "cV0S4zYRLEeH",
        "colab_type": "text"
      },
      "cell_type": "markdown",
      "source": [
        "The paper talked about the posibility to create a neuronal network that can learn to play different games without any changes in the architecture of the network, the only change was the input that was a part of the screen of the game the network tried to learn.\n",
        "\n",
        "They described how they calculated the reward and function implemented. Also mentioned that one movement in the game may take a lot of timesteps to see that movement result and give a proper reward, either negative or positive. There was a problem with the score too, different games means different ways to increase the score and therefore different increasing values, they opted to set positive rewars to one and negative to -1 to reduce complexity.\n",
        "\n",
        "The images were preprocessed by pasing the image to gray scale, downsampling and corping it. This results in a square image. Then they merged four of those images (differente frames) and sended to the network, so the input was NxNx4. Also there was an skipping of four frames to speed up the training and it didn't affected the trainning to much, just in space invaders where the laser blinks.\n",
        "\n",
        "The network they used was a small one, two convolutional layers, the flatten and two dense layers, one for analisis and the other for the result.\n",
        "\n",
        "For their experiments they used a batch size of 32, RMSProp and a linear replay memory of 1 million."
      ]
    },
    {
      "metadata": {
        "colab_type": "text",
        "id": "NrmWWhzE1Vg1"
      },
      "cell_type": "markdown",
      "source": [
        "### Basic installs and imports for Colab"
      ]
    },
    {
      "metadata": {
        "colab_type": "code",
        "id": "cmTlRpCTiUeo",
        "outputId": "51b8a802-1c8e-42a0-86ec-140497ac95e1",
        "colab": {
          "base_uri": "https://localhost:8080/",
          "height": 281
        }
      },
      "cell_type": "code",
      "source": [
        "#remove \" > /dev/null 2>&1\" to see what is going on under the hood\n",
        "!pip install gym pyvirtualdisplay > /dev/null 2>&1\n",
        "!apt-get install -y xvfb python-opengl ffmpeg > /dev/null 2>&1\n",
        "!apt-get update > /dev/null 2>&1\n",
        "!apt-get install cmake > /dev/null 2>&1\n",
        "!pip install --upgrade setuptools 2>&1\n",
        "!pip install ez_setup > /dev/null 2>&1\n",
        "!pip install gym[atari] > /dev/null 2>&1\n",
        "!pip install gym[box2d] > /dev/null 2>&1"
      ],
      "execution_count": 0,
      "outputs": [
        {
          "output_type": "stream",
          "text": [
            "Collecting setuptools\n",
            "\u001b[?25l  Downloading https://files.pythonhosted.org/packages/c8/b0/cc6b7ba28d5fb790cf0d5946df849233e32b8872b6baca10c9e002ff5b41/setuptools-41.0.0-py2.py3-none-any.whl (575kB)\n",
            "\u001b[K    100% |████████████████████████████████| 583kB 7.5MB/s \n",
            "\u001b[31mdatascience 0.10.6 has requirement folium==0.2.1, but you'll have folium 0.8.3 which is incompatible.\u001b[0m\n",
            "\u001b[?25hInstalling collected packages: setuptools\n",
            "  Found existing installation: setuptools 40.9.0\n",
            "    Uninstalling setuptools-40.9.0:\n",
            "      Successfully uninstalled setuptools-40.9.0\n",
            "Successfully installed setuptools-41.0.0\n"
          ],
          "name": "stdout"
        },
        {
          "output_type": "display_data",
          "data": {
            "application/vnd.colab-display-data+json": {
              "pip_warning": {
                "packages": [
                  "pkg_resources"
                ]
              }
            }
          },
          "metadata": {
            "tags": []
          }
        }
      ]
    },
    {
      "metadata": {
        "colab_type": "code",
        "id": "SOAgdSpoi8Md",
        "outputId": "d4f075eb-1429-4e8c-e5a7-6c9d52e39bf8",
        "colab": {
          "base_uri": "https://localhost:8080/",
          "height": 35
        }
      },
      "cell_type": "code",
      "source": [
        "import gym\n",
        "from gym import logger as gymlogger\n",
        "from gym.wrappers import Monitor\n",
        "\n",
        "import matplotlib\n",
        "import matplotlib.pyplot as plt\n",
        "\n",
        "import cv2\n",
        "import numpy as np\n",
        "import random, math\n",
        "\n",
        "from keras import models, layers, optimizers\n",
        "\n",
        "from collections import deque\n",
        "\n",
        "import glob, io, base64\n",
        "\n",
        "from IPython.display import HTML\n",
        "from IPython import display as ipythondisplay\n",
        "from pyvirtualdisplay import Display\n",
        "\n",
        "gymlogger.set_level(40) #error only\n",
        "%matplotlib inline"
      ],
      "execution_count": 0,
      "outputs": [
        {
          "output_type": "stream",
          "text": [
            "Using TensorFlow backend.\n"
          ],
          "name": "stderr"
        }
      ]
    },
    {
      "metadata": {
        "colab_type": "text",
        "id": "JCXxMUco1aoh"
      },
      "cell_type": "markdown",
      "source": [
        "### Functions that wraps a video in colab"
      ]
    },
    {
      "metadata": {
        "colab_type": "code",
        "id": "xguRhza7jSRD",
        "colab": {}
      },
      "cell_type": "code",
      "source": [
        "\"\"\"\n",
        "Utility functions to enable video recording of gym environment and displaying it\n",
        "To enable video, just do \"env = wrap_env(env)\"\"\n",
        "\"\"\"\n",
        "\n",
        "def show_video():\n",
        "  mp4list = glob.glob('video/*.mp4')\n",
        "  if len(mp4list) > 0:\n",
        "    mp4 = mp4list[0]\n",
        "    video = io.open(mp4, 'r+b').read()\n",
        "    encoded = base64.b64encode(video)\n",
        "    ipythondisplay.display(HTML(data='''<video alt=\"test\" autoplay \n",
        "                loop controls style=\"height: 400px;\">\n",
        "                <source src=\"data:video/mp4;base64,{0}\" type=\"video/mp4\" />\n",
        "             </video>'''.format(encoded.decode('ascii'))))\n",
        "  else: \n",
        "    print(\"Could not find video\")\n",
        "    \n",
        "\n",
        "def wrap_env(env):\n",
        "  env = Monitor(env, './video', force=True)\n",
        "  return env"
      ],
      "execution_count": 0,
      "outputs": []
    },
    {
      "metadata": {
        "colab_type": "code",
        "id": "2HI_wN3OjVd2",
        "outputId": "97082b41-b66e-4b79-ad5d-de333403f0f3",
        "colab": {
          "base_uri": "https://localhost:8080/",
          "height": 55
        }
      },
      "cell_type": "code",
      "source": [
        "display = Display(visible=0, size=(1400, 900))\n",
        "display.start()"
      ],
      "execution_count": 0,
      "outputs": [
        {
          "output_type": "execute_result",
          "data": {
            "text/plain": [
              "<Display cmd_param=['Xvfb', '-br', '-nolisten', 'tcp', '-screen', '0', '1400x900x24', ':1001'] cmd=['Xvfb', '-br', '-nolisten', 'tcp', '-screen', '0', '1400x900x24', ':1001'] oserror=None return_code=None stdout=\"None\" stderr=\"None\" timeout_happened=False>"
            ]
          },
          "metadata": {
            "tags": []
          },
          "execution_count": 4
        }
      ]
    },
    {
      "metadata": {
        "colab_type": "code",
        "id": "C3jpZDbFjJu8",
        "outputId": "610094e3-8d61-419d-ea96-42f4a4b958b8",
        "colab": {
          "base_uri": "https://localhost:8080/",
          "height": 35
        }
      },
      "cell_type": "code",
      "source": [
        "# Loads the pong environment\n",
        "env = wrap_env(gym.make('Pong-v0'))\n",
        "\n",
        "state_size = env.observation_space.shape[0]\n",
        "action_size = env.action_space.n\n",
        "\n",
        "print(state_size, action_size)\n",
        "\n",
        "batch_size = 32\n",
        "\n",
        "n_episodes = 1001"
      ],
      "execution_count": 0,
      "outputs": [
        {
          "output_type": "stream",
          "text": [
            "210 6\n"
          ],
          "name": "stdout"
        }
      ]
    },
    {
      "metadata": {
        "id": "R5T1o_x-BI-T",
        "colab_type": "code",
        "outputId": "bf5e226a-091c-4cdd-8b46-da4921594f2a",
        "colab": {
          "base_uri": "https://localhost:8080/",
          "height": 35
        }
      },
      "cell_type": "code",
      "source": [
        "show_video()"
      ],
      "execution_count": 0,
      "outputs": [
        {
          "output_type": "stream",
          "text": [
            "Could not find video\n"
          ],
          "name": "stdout"
        }
      ]
    },
    {
      "metadata": {
        "colab_type": "text",
        "id": "h3Ww0L4w1hE4"
      },
      "cell_type": "markdown",
      "source": [
        "## Define the Deep Q learning Agent"
      ]
    },
    {
      "metadata": {
        "colab_type": "code",
        "id": "nbtt8Frsjvm8",
        "colab": {}
      },
      "cell_type": "code",
      "source": [
        "class DQNAgent:\n",
        "    \n",
        "    def __init__(self, state_size, action_size):\n",
        "      \n",
        "        self.state_size = state_size\n",
        "        self.action_size = action_size\n",
        "        \n",
        "        self.memory = deque(maxlen=40000) #40k * 4 = 160k frames\n",
        "        \n",
        "        self.gamma = 0.999 #changed gamma from .95 to .999\n",
        "        self.alpha = 0.001\n",
        "        self.epsilon = 1.0\n",
        "        self.epsilon_decay = 0.99997 \n",
        "        self.epsilon_min = 0.01\n",
        "        \n",
        "        self.model = self._build_model()\n",
        "        \n",
        "\n",
        "    def _build_model(self):\n",
        "        \n",
        "        model = models.Sequential()\n",
        "        model.add(layers.Conv2D(16, (8,8), strides=4, input_shape = (4,84,84), data_format=\"channels_first\"))\n",
        "        model.add(layers.LeakyReLU(alpha=0.3))\n",
        "        model.add(layers.Conv2D(32, (4,4), strides=2))\n",
        "        model.add(layers.LeakyReLU(alpha=0.3))\n",
        "        model.add(layers.Flatten())\n",
        "        model.add(layers.Dense(256, activation='relu'))\n",
        "        model.add(layers.Dense(self.action_size, activation='softmax')) #movements\n",
        "        \n",
        "        return model\n",
        "    \n",
        "    def remember(self, state, action, reward, next_state, done, screen):\n",
        "        '''\n",
        "            state, action, reward at current time\n",
        "            next_state is the state that occurs after the state-action\n",
        "            done is if the episode ended\n",
        "        '''\n",
        "        self.memory.append((state, action, reward, next_state, done, screen))\n",
        "        \n",
        "    def action(self, screen):\n",
        "        \n",
        "        if np.random.rand() <= self.epsilon:\n",
        "            return random.randrange(self.action_size)\n",
        "        \n",
        "        \n",
        "        prediction = self.model.predict(screen)\n",
        "        #print(\"prediction: \",prediction)\n",
        "        \n",
        "        return np.argmax(prediction[0])\n",
        "        \n",
        "    def train(self, batch_size):\n",
        "        \n",
        "        batch = random.sample(self.memory, batch_size)\n",
        "        \n",
        "        for state, action, reward, next_state, done, screen in batch:\n",
        "            \n",
        "            target = reward\n",
        "            \n",
        "            if not done:\n",
        "                \n",
        "                target = (reward + self.gamma * \n",
        "                          np.amax(self.model.predict(screen)[0]))\n",
        "                \n",
        "            target_y = self.model.predict(screen)\n",
        "            \n",
        "            target_y[0][action] = target\n",
        "            \n",
        "            self.model.fit(screen, target_y, epochs=1, verbose=0)\n",
        "            \n",
        "        if self.epsilon > self.epsilon_min:\n",
        "            self.epsilon *= self.epsilon_decay\n",
        "    \n",
        "           \n",
        "    def load(self, name):\n",
        "        self.model.load_weights(name)\n",
        "        \n",
        "    def save(self, name):\n",
        "        self.model.save_weights(name)"
      ],
      "execution_count": 0,
      "outputs": []
    },
    {
      "metadata": {
        "colab_type": "code",
        "id": "jyAVZOyPjzTr",
        "outputId": "7ccd03ce-67af-432a-d941-623f1ce4c926",
        "colab": {
          "base_uri": "https://localhost:8080/",
          "height": 453
        }
      },
      "cell_type": "code",
      "source": [
        "agent = DQNAgent(state_size, action_size)\n",
        "agent.model.summary()\n",
        "agent.model.compile(loss='categorical_crossentropy', optimizer=optimizers.RMSprop(lr=1e-4), metrics=['accuracy'])\n"
      ],
      "execution_count": 0,
      "outputs": [
        {
          "output_type": "stream",
          "text": [
            "WARNING:tensorflow:From /usr/local/lib/python3.6/dist-packages/tensorflow/python/framework/op_def_library.py:263: colocate_with (from tensorflow.python.framework.ops) is deprecated and will be removed in a future version.\n",
            "Instructions for updating:\n",
            "Colocations handled automatically by placer.\n",
            "_________________________________________________________________\n",
            "Layer (type)                 Output Shape              Param #   \n",
            "=================================================================\n",
            "conv2d_1 (Conv2D)            (None, 16, 20, 20)        4112      \n",
            "_________________________________________________________________\n",
            "leaky_re_lu_1 (LeakyReLU)    (None, 16, 20, 20)        0         \n",
            "_________________________________________________________________\n",
            "conv2d_2 (Conv2D)            (None, 7, 9, 32)          10272     \n",
            "_________________________________________________________________\n",
            "leaky_re_lu_2 (LeakyReLU)    (None, 7, 9, 32)          0         \n",
            "_________________________________________________________________\n",
            "flatten_1 (Flatten)          (None, 2016)              0         \n",
            "_________________________________________________________________\n",
            "dense_1 (Dense)              (None, 256)               516352    \n",
            "_________________________________________________________________\n",
            "dense_2 (Dense)              (None, 6)                 1542      \n",
            "=================================================================\n",
            "Total params: 532,278\n",
            "Trainable params: 532,278\n",
            "Non-trainable params: 0\n",
            "_________________________________________________________________\n"
          ],
          "name": "stdout"
        }
      ]
    },
    {
      "metadata": {
        "colab_type": "text",
        "id": "94rKT1nj1nMj"
      },
      "cell_type": "markdown",
      "source": [
        "### Needed preprocessing steps"
      ]
    },
    {
      "metadata": {
        "colab_type": "code",
        "id": "F0YR2iCYd4OV",
        "colab": {}
      },
      "cell_type": "code",
      "source": [
        "def preprocessFrame(image): #210,160\n",
        "  image = cv2.cvtColor(image, cv2.COLOR_BGR2GRAY)\n",
        "  image = cv2.resize(image,(84,110)) #resize\n",
        "  image = image[18:102, :]  # crop the useless areas\n",
        "  \n",
        "  return image"
      ],
      "execution_count": 0,
      "outputs": []
    },
    {
      "metadata": {
        "id": "Kjt6IsGAldu_",
        "colab_type": "code",
        "outputId": "281fae51-7c66-4e6b-e38d-97a0bce18d7f",
        "colab": {
          "base_uri": "https://localhost:8080/",
          "height": 55
        }
      },
      "cell_type": "code",
      "source": [
        "\"\"\"#env.reset()\n",
        "env.step(2)\n",
        "img = env.render(mode='rgb_array') #get the screen\n",
        "print(preprocessFrame(img).shape)\n",
        "\n",
        "plt.imshow(preprocessFrame(img), cmap=\"gray\")\"\"\""
      ],
      "execution_count": 0,
      "outputs": [
        {
          "output_type": "execute_result",
          "data": {
            "text/plain": [
              "'#env.reset()\\nenv.step(2)\\nimg = env.render(mode=\\'rgb_array\\') #get the screen\\nprint(preprocessFrame(img).shape)\\n\\nplt.imshow(preprocessFrame(img), cmap=\"gray\")'"
            ]
          },
          "metadata": {
            "tags": []
          },
          "execution_count": 10
        }
      ]
    },
    {
      "metadata": {
        "colab_type": "text",
        "id": "OVf_LPgl1u3n"
      },
      "cell_type": "markdown",
      "source": [
        "## Training with the environment images\n",
        "instead of perform an action every four frames keep the same for another three and change it in the fourth"
      ]
    },
    {
      "metadata": {
        "colab_type": "code",
        "id": "eHcl0-LAj38H",
        "outputId": "bfc01bda-06c4-42cf-b345-75faa05a4706",
        "colab": {
          "base_uri": "https://localhost:8080/",
          "height": 1816
        }
      },
      "cell_type": "code",
      "source": [
        "agent.load('12_9900_pong2_fixed.hdf5')\n",
        "agent.epsilon = 0.04308858493314386\n",
        "batch_size = 32\n",
        "frames_pack = []\n",
        "try:\n",
        "    for e in range(10001): #epochs\n",
        "        \n",
        "        state = env.reset()\n",
        "        \n",
        "        total_reward = 0\n",
        "        done = False\n",
        "        action = 0 #do nothing in context of pong\n",
        "\n",
        "        #screen = env.render(mode='rgb_array') #get the screen\n",
        "        #screen = preprocessFrame(screen)\n",
        "        #screen = np.expand_dims(screen, axis=2)\n",
        "        #screen = np.expand_dims(screen, axis=0)\n",
        "        \n",
        "        while not done:\n",
        "            \n",
        "            screen = env.render(mode='rgb_array') #get the screen\n",
        "            screen = preprocessFrame(screen)\n",
        "            frames_pack.append(screen) #stack images \n",
        "            screen = np.expand_dims(screen, axis=2)\n",
        "            screen = np.expand_dims(screen, axis=0)\n",
        "            #print(\"test: \", screen.shape)\n",
        "        \n",
        "            \n",
        "            if len(frames_pack) == 4: \n",
        "              frames_pack = np.array(frames_pack)\n",
        "              #frames_pack = np.reshape(frames_pack, (84,84,4))\n",
        "              frames_pack = np.expand_dims(frames_pack, axis=0)\n",
        "              #print(frames_pack.shape)\n",
        "              \n",
        "              # Takes a random action from the action space of the environment\n",
        "              action = agent.action(frames_pack) #change action\n",
        "              next_state, reward, done, info = env.step(action)\n",
        "              # Define the reward for this problem\n",
        "              reward = reward if not done else -1\n",
        "              total_reward += reward\n",
        "  \n",
        "              agent.remember(state,action,reward,next_state,done,frames_pack)\n",
        "              state = next_state\n",
        "              frames_pack = []\n",
        "            else:\n",
        "              #repeat the action\n",
        "              next_state, reward, done, info = env.step(action)\n",
        "              reward = reward if not done else -1\n",
        "              total_reward += reward\n",
        "              state = next_state\n",
        "              \n",
        "            \n",
        "        \n",
        "        if e % 100 == 0:\n",
        "            agent.save('13_{:05d}_pong2_fixed'.format(e) + '.hdf5')\n",
        "            print(e, \" : \",agent.epsilon, \" : \",total_reward)\n",
        "        if len(agent.memory) > batch_size:\n",
        "          agent.train(batch_size)\n",
        "                \n",
        "        \n",
        "finally:\n",
        "    env.close()"
      ],
      "execution_count": 0,
      "outputs": [
        {
          "output_type": "stream",
          "text": [
            "0  :  0.04308858493314386  :  -21.0\n",
            "WARNING:tensorflow:From /usr/local/lib/python3.6/dist-packages/tensorflow/python/ops/math_ops.py:3066: to_int32 (from tensorflow.python.ops.math_ops) is deprecated and will be removed in a future version.\n",
            "Instructions for updating:\n",
            "Use tf.cast instead.\n",
            "100  :  0.042959510950006774  :  -21.0\n",
            "200  :  0.04283082361435757  :  -21.0\n",
            "300  :  0.0427025217679747  :  -21.0\n",
            "400  :  0.04257460425610596  :  -21.0\n",
            "500  :  0.042447069927458364  :  -21.0\n",
            "600  :  0.042319917634187715  :  -21.0\n",
            "700  :  0.04219314623188812  :  -21.0\n",
            "800  :  0.0420667545795819  :  -21.0\n",
            "900  :  0.04194074153970921  :  -21.0\n",
            "1000  :  0.04181510597811781  :  -21.0\n",
            "1100  :  0.04168984676405285  :  -21.0\n",
            "1200  :  0.04156496277014674  :  -21.0\n",
            "1300  :  0.041440452872409037  :  -21.0\n",
            "1400  :  0.04131631595021615  :  -21.0\n",
            "1500  :  0.041192550886301416  :  -21.0\n",
            "1600  :  0.04106915656674501  :  -21.0\n",
            "1700  :  0.04094613188096391  :  -20.0\n",
            "1800  :  0.04082347572170193  :  -21.0\n",
            "1900  :  0.04070118698501964  :  -20.0\n",
            "2000  :  0.04057926457028458  :  -21.0\n",
            "2100  :  0.0404577073801613  :  -21.0\n",
            "2200  :  0.0403365143206014  :  -21.0\n",
            "2300  :  0.04021568430083385  :  -21.0\n",
            "2400  :  0.04009521623335499  :  -21.0\n",
            "2500  :  0.03997510903391892  :  -21.0\n",
            "2600  :  0.03985536162152759  :  -21.0\n",
            "2700  :  0.03973597291842113  :  -21.0\n",
            "2800  :  0.03961694185006817  :  -21.0\n",
            "2900  :  0.03949826734515615  :  -21.0\n",
            "3000  :  0.03937994833558173  :  -21.0\n",
            "3100  :  0.039261983756441014  :  -21.0\n",
            "3200  :  0.03914437254602016  :  -21.0\n",
            "3300  :  0.03902711364578569  :  -21.0\n",
            "3400  :  0.038910206000375154  :  -21.0\n",
            "3500  :  0.038793648557587275  :  -21.0\n",
            "3600  :  0.0386774402683729  :  -21.0\n",
            "3700  :  0.0385615800868252  :  -21.0\n",
            "3800  :  0.038446066970170514  :  -21.0\n",
            "3900  :  0.0383308998787588  :  -21.0\n",
            "4000  :  0.03821607777605435  :  -21.0\n",
            "4100  :  0.03810159962862652  :  -21.0\n",
            "4200  :  0.037987464406140266  :  -21.0\n",
            "4300  :  0.037873671081346996  :  -21.0\n",
            "4400  :  0.03776021863007531  :  -21.0\n"
          ],
          "name": "stdout"
        },
        {
          "output_type": "error",
          "ename": "KeyboardInterrupt",
          "evalue": "ignored",
          "traceback": [
            "\u001b[0;31m---------------------------------------------------------------------------\u001b[0m",
            "\u001b[0;31mKeyboardInterrupt\u001b[0m                         Traceback (most recent call last)",
            "\u001b[0;32m<ipython-input-11-23c2bc27309e>\u001b[0m in \u001b[0;36m<module>\u001b[0;34m()\u001b[0m\n\u001b[1;32m     34\u001b[0m \u001b[0;34m\u001b[0m\u001b[0m\n\u001b[1;32m     35\u001b[0m               \u001b[0;31m# Takes a random action from the action space of the environment\u001b[0m\u001b[0;34m\u001b[0m\u001b[0;34m\u001b[0m\u001b[0;34m\u001b[0m\u001b[0m\n\u001b[0;32m---> 36\u001b[0;31m               \u001b[0maction\u001b[0m \u001b[0;34m=\u001b[0m \u001b[0magent\u001b[0m\u001b[0;34m.\u001b[0m\u001b[0maction\u001b[0m\u001b[0;34m(\u001b[0m\u001b[0mframes_pack\u001b[0m\u001b[0;34m)\u001b[0m \u001b[0;31m#change action\u001b[0m\u001b[0;34m\u001b[0m\u001b[0;34m\u001b[0m\u001b[0m\n\u001b[0m\u001b[1;32m     37\u001b[0m               \u001b[0mnext_state\u001b[0m\u001b[0;34m,\u001b[0m \u001b[0mreward\u001b[0m\u001b[0;34m,\u001b[0m \u001b[0mdone\u001b[0m\u001b[0;34m,\u001b[0m \u001b[0minfo\u001b[0m \u001b[0;34m=\u001b[0m \u001b[0menv\u001b[0m\u001b[0;34m.\u001b[0m\u001b[0mstep\u001b[0m\u001b[0;34m(\u001b[0m\u001b[0maction\u001b[0m\u001b[0;34m)\u001b[0m\u001b[0;34m\u001b[0m\u001b[0;34m\u001b[0m\u001b[0m\n\u001b[1;32m     38\u001b[0m               \u001b[0;31m# Define the reward for this problem\u001b[0m\u001b[0;34m\u001b[0m\u001b[0;34m\u001b[0m\u001b[0;34m\u001b[0m\u001b[0m\n",
            "\u001b[0;32m<ipython-input-7-a5f98959aecf>\u001b[0m in \u001b[0;36maction\u001b[0;34m(self, screen)\u001b[0m\n\u001b[1;32m     44\u001b[0m \u001b[0;34m\u001b[0m\u001b[0m\n\u001b[1;32m     45\u001b[0m \u001b[0;34m\u001b[0m\u001b[0m\n\u001b[0;32m---> 46\u001b[0;31m         \u001b[0mprediction\u001b[0m \u001b[0;34m=\u001b[0m \u001b[0mself\u001b[0m\u001b[0;34m.\u001b[0m\u001b[0mmodel\u001b[0m\u001b[0;34m.\u001b[0m\u001b[0mpredict\u001b[0m\u001b[0;34m(\u001b[0m\u001b[0mscreen\u001b[0m\u001b[0;34m)\u001b[0m\u001b[0;34m\u001b[0m\u001b[0;34m\u001b[0m\u001b[0m\n\u001b[0m\u001b[1;32m     47\u001b[0m         \u001b[0;31m#print(\"prediction: \",prediction)\u001b[0m\u001b[0;34m\u001b[0m\u001b[0;34m\u001b[0m\u001b[0;34m\u001b[0m\u001b[0m\n\u001b[1;32m     48\u001b[0m \u001b[0;34m\u001b[0m\u001b[0m\n",
            "\u001b[0;32m/usr/local/lib/python3.6/dist-packages/keras/engine/training.py\u001b[0m in \u001b[0;36mpredict\u001b[0;34m(self, x, batch_size, verbose, steps)\u001b[0m\n\u001b[1;32m   1167\u001b[0m                                             \u001b[0mbatch_size\u001b[0m\u001b[0;34m=\u001b[0m\u001b[0mbatch_size\u001b[0m\u001b[0;34m,\u001b[0m\u001b[0;34m\u001b[0m\u001b[0;34m\u001b[0m\u001b[0m\n\u001b[1;32m   1168\u001b[0m                                             \u001b[0mverbose\u001b[0m\u001b[0;34m=\u001b[0m\u001b[0mverbose\u001b[0m\u001b[0;34m,\u001b[0m\u001b[0;34m\u001b[0m\u001b[0;34m\u001b[0m\u001b[0m\n\u001b[0;32m-> 1169\u001b[0;31m                                             steps=steps)\n\u001b[0m\u001b[1;32m   1170\u001b[0m \u001b[0;34m\u001b[0m\u001b[0m\n\u001b[1;32m   1171\u001b[0m     def train_on_batch(self, x, y,\n",
            "\u001b[0;32m/usr/local/lib/python3.6/dist-packages/keras/engine/training_arrays.py\u001b[0m in \u001b[0;36mpredict_loop\u001b[0;34m(model, f, ins, batch_size, verbose, steps)\u001b[0m\n\u001b[1;32m    292\u001b[0m                 \u001b[0mins_batch\u001b[0m\u001b[0;34m[\u001b[0m\u001b[0mi\u001b[0m\u001b[0;34m]\u001b[0m \u001b[0;34m=\u001b[0m \u001b[0mins_batch\u001b[0m\u001b[0;34m[\u001b[0m\u001b[0mi\u001b[0m\u001b[0;34m]\u001b[0m\u001b[0;34m.\u001b[0m\u001b[0mtoarray\u001b[0m\u001b[0;34m(\u001b[0m\u001b[0;34m)\u001b[0m\u001b[0;34m\u001b[0m\u001b[0;34m\u001b[0m\u001b[0m\n\u001b[1;32m    293\u001b[0m \u001b[0;34m\u001b[0m\u001b[0m\n\u001b[0;32m--> 294\u001b[0;31m             \u001b[0mbatch_outs\u001b[0m \u001b[0;34m=\u001b[0m \u001b[0mf\u001b[0m\u001b[0;34m(\u001b[0m\u001b[0mins_batch\u001b[0m\u001b[0;34m)\u001b[0m\u001b[0;34m\u001b[0m\u001b[0;34m\u001b[0m\u001b[0m\n\u001b[0m\u001b[1;32m    295\u001b[0m             \u001b[0mbatch_outs\u001b[0m \u001b[0;34m=\u001b[0m \u001b[0mto_list\u001b[0m\u001b[0;34m(\u001b[0m\u001b[0mbatch_outs\u001b[0m\u001b[0;34m)\u001b[0m\u001b[0;34m\u001b[0m\u001b[0;34m\u001b[0m\u001b[0m\n\u001b[1;32m    296\u001b[0m             \u001b[0;32mif\u001b[0m \u001b[0mbatch_index\u001b[0m \u001b[0;34m==\u001b[0m \u001b[0;36m0\u001b[0m\u001b[0;34m:\u001b[0m\u001b[0;34m\u001b[0m\u001b[0;34m\u001b[0m\u001b[0m\n",
            "\u001b[0;32m/usr/local/lib/python3.6/dist-packages/keras/backend/tensorflow_backend.py\u001b[0m in \u001b[0;36m__call__\u001b[0;34m(self, inputs)\u001b[0m\n\u001b[1;32m   2713\u001b[0m                 \u001b[0;32mreturn\u001b[0m \u001b[0mself\u001b[0m\u001b[0;34m.\u001b[0m\u001b[0m_legacy_call\u001b[0m\u001b[0;34m(\u001b[0m\u001b[0minputs\u001b[0m\u001b[0;34m)\u001b[0m\u001b[0;34m\u001b[0m\u001b[0;34m\u001b[0m\u001b[0m\n\u001b[1;32m   2714\u001b[0m \u001b[0;34m\u001b[0m\u001b[0m\n\u001b[0;32m-> 2715\u001b[0;31m             \u001b[0;32mreturn\u001b[0m \u001b[0mself\u001b[0m\u001b[0;34m.\u001b[0m\u001b[0m_call\u001b[0m\u001b[0;34m(\u001b[0m\u001b[0minputs\u001b[0m\u001b[0;34m)\u001b[0m\u001b[0;34m\u001b[0m\u001b[0;34m\u001b[0m\u001b[0m\n\u001b[0m\u001b[1;32m   2716\u001b[0m         \u001b[0;32melse\u001b[0m\u001b[0;34m:\u001b[0m\u001b[0;34m\u001b[0m\u001b[0;34m\u001b[0m\u001b[0m\n\u001b[1;32m   2717\u001b[0m             \u001b[0;32mif\u001b[0m \u001b[0mpy_any\u001b[0m\u001b[0;34m(\u001b[0m\u001b[0mis_tensor\u001b[0m\u001b[0;34m(\u001b[0m\u001b[0mx\u001b[0m\u001b[0;34m)\u001b[0m \u001b[0;32mfor\u001b[0m \u001b[0mx\u001b[0m \u001b[0;32min\u001b[0m \u001b[0minputs\u001b[0m\u001b[0;34m)\u001b[0m\u001b[0;34m:\u001b[0m\u001b[0;34m\u001b[0m\u001b[0;34m\u001b[0m\u001b[0m\n",
            "\u001b[0;32m/usr/local/lib/python3.6/dist-packages/keras/backend/tensorflow_backend.py\u001b[0m in \u001b[0;36m_call\u001b[0;34m(self, inputs)\u001b[0m\n\u001b[1;32m   2673\u001b[0m             \u001b[0mfetched\u001b[0m \u001b[0;34m=\u001b[0m \u001b[0mself\u001b[0m\u001b[0;34m.\u001b[0m\u001b[0m_callable_fn\u001b[0m\u001b[0;34m(\u001b[0m\u001b[0;34m*\u001b[0m\u001b[0marray_vals\u001b[0m\u001b[0;34m,\u001b[0m \u001b[0mrun_metadata\u001b[0m\u001b[0;34m=\u001b[0m\u001b[0mself\u001b[0m\u001b[0;34m.\u001b[0m\u001b[0mrun_metadata\u001b[0m\u001b[0;34m)\u001b[0m\u001b[0;34m\u001b[0m\u001b[0;34m\u001b[0m\u001b[0m\n\u001b[1;32m   2674\u001b[0m         \u001b[0;32melse\u001b[0m\u001b[0;34m:\u001b[0m\u001b[0;34m\u001b[0m\u001b[0;34m\u001b[0m\u001b[0m\n\u001b[0;32m-> 2675\u001b[0;31m             \u001b[0mfetched\u001b[0m \u001b[0;34m=\u001b[0m \u001b[0mself\u001b[0m\u001b[0;34m.\u001b[0m\u001b[0m_callable_fn\u001b[0m\u001b[0;34m(\u001b[0m\u001b[0;34m*\u001b[0m\u001b[0marray_vals\u001b[0m\u001b[0;34m)\u001b[0m\u001b[0;34m\u001b[0m\u001b[0;34m\u001b[0m\u001b[0m\n\u001b[0m\u001b[1;32m   2676\u001b[0m         \u001b[0;32mreturn\u001b[0m \u001b[0mfetched\u001b[0m\u001b[0;34m[\u001b[0m\u001b[0;34m:\u001b[0m\u001b[0mlen\u001b[0m\u001b[0;34m(\u001b[0m\u001b[0mself\u001b[0m\u001b[0;34m.\u001b[0m\u001b[0moutputs\u001b[0m\u001b[0;34m)\u001b[0m\u001b[0;34m]\u001b[0m\u001b[0;34m\u001b[0m\u001b[0;34m\u001b[0m\u001b[0m\n\u001b[1;32m   2677\u001b[0m \u001b[0;34m\u001b[0m\u001b[0m\n",
            "\u001b[0;32m/usr/local/lib/python3.6/dist-packages/tensorflow/python/client/session.py\u001b[0m in \u001b[0;36m__call__\u001b[0;34m(self, *args, **kwargs)\u001b[0m\n\u001b[1;32m   1437\u001b[0m           ret = tf_session.TF_SessionRunCallable(\n\u001b[1;32m   1438\u001b[0m               \u001b[0mself\u001b[0m\u001b[0;34m.\u001b[0m\u001b[0m_session\u001b[0m\u001b[0;34m.\u001b[0m\u001b[0m_session\u001b[0m\u001b[0;34m,\u001b[0m \u001b[0mself\u001b[0m\u001b[0;34m.\u001b[0m\u001b[0m_handle\u001b[0m\u001b[0;34m,\u001b[0m \u001b[0margs\u001b[0m\u001b[0;34m,\u001b[0m \u001b[0mstatus\u001b[0m\u001b[0;34m,\u001b[0m\u001b[0;34m\u001b[0m\u001b[0;34m\u001b[0m\u001b[0m\n\u001b[0;32m-> 1439\u001b[0;31m               run_metadata_ptr)\n\u001b[0m\u001b[1;32m   1440\u001b[0m         \u001b[0;32mif\u001b[0m \u001b[0mrun_metadata\u001b[0m\u001b[0;34m:\u001b[0m\u001b[0;34m\u001b[0m\u001b[0;34m\u001b[0m\u001b[0m\n\u001b[1;32m   1441\u001b[0m           \u001b[0mproto_data\u001b[0m \u001b[0;34m=\u001b[0m \u001b[0mtf_session\u001b[0m\u001b[0;34m.\u001b[0m\u001b[0mTF_GetBuffer\u001b[0m\u001b[0;34m(\u001b[0m\u001b[0mrun_metadata_ptr\u001b[0m\u001b[0;34m)\u001b[0m\u001b[0;34m\u001b[0m\u001b[0;34m\u001b[0m\u001b[0m\n",
            "\u001b[0;31mKeyboardInterrupt\u001b[0m: "
          ]
        }
      ]
    },
    {
      "metadata": {
        "colab_type": "code",
        "id": "yoWQOzwWkzXs",
        "colab": {}
      },
      "cell_type": "code",
      "source": [
        "#!rm *\n",
        "\n",
        "!ls"
      ],
      "execution_count": 0,
      "outputs": []
    },
    {
      "metadata": {
        "colab_type": "text",
        "id": "25FqNG8u2dDa"
      },
      "cell_type": "markdown",
      "source": [
        "### Test your model"
      ]
    },
    {
      "metadata": {
        "colab_type": "code",
        "id": "o1Ti62JUgiNm",
        "outputId": "0fc2bb28-bdcc-4efd-c6e9-27c653f5a07d",
        "colab": {
          "base_uri": "https://localhost:8080/",
          "height": 439
        }
      },
      "cell_type": "code",
      "source": [
        "#1_9900  :  0.7430407020422212  :  -20.0\n",
        "#2_9900  :  0.5521094848913968  :  -20.0\n",
        "#3_5600  :  0.46672669404250394  :  -20.0\n",
        "#4_9900  :  0.34679693040318677  :  -20.0\n",
        "#5_5400  :  0.29492968252864815  :  -20.0\n",
        "#6_8700  :  0.22717781765931463  :  -21.0\n",
        "#7_9900  :  0.16880236512199645  :  -21.0\n",
        "#8_9900  :  0.12542702788663537  :  -20.0\n",
        "#9_5800  :  0.10539566732712037  :  -21.0\n",
        "#10_9900  :  0.07831327064295114  :  -21.0\n",
        "#11_9900  :  0.05816551258495394  :  -21.0\n",
        "#12_9900  :  0.04308858493314386  :  -21.0\n",
        "#13_04400  :  0.03776021863007531  :  -21.0\n",
        "#agent.load('8_9900_pong2_fixed.hdf5')\n",
        "env = wrap_env(gym.make('Pong-v0'))\n",
        "frames_pack= []\n",
        "\n",
        "try:\n",
        "      action = 0 #do nothing in context of pong\n",
        "\n",
        "      state = env.reset()\n",
        "\n",
        "      total_reward = 0\n",
        "      done = False\n",
        "\n",
        "      while not done:\n",
        "      #for time in range(200):\n",
        "\n",
        "          #env.render()\n",
        "\n",
        "          # Makes an action, screen capture and preprocess\n",
        "          next_state, reward, done, info = env.step(action)\n",
        "          screen = env.render(mode='rgb_array') #get the screen\n",
        "          screen = preprocessFrame(screen) #84x84\n",
        "          frames_pack.append(screen) #stack images \n",
        "          \n",
        "          if len(frames_pack) == 4: #all the images for a single input\n",
        "            \n",
        "            frames_pack = np.array(frames_pack) # 4,84,84\n",
        "            frames_pack = np.expand_dims(frames_pack, axis=0) #1,4,84,84\n",
        "            \n",
        "            # Define the reward for this problem\n",
        "            reward = reward if not done else -1\n",
        "            total_reward += reward\n",
        "            \n",
        "            agent.remember(state,action,reward,next_state,done,frames_pack)\n",
        "            \n",
        "            state = next_state\n",
        "\n",
        "\n",
        "            # Takes a new action for the next 4 frames\n",
        "            action = agent.action(frames_pack)        \n",
        "            \n",
        "            #Clear the frames stored\n",
        "            frames_pack = []\n",
        "            \n",
        "            \n",
        "          else:\n",
        "            #safe data\n",
        "            reward = reward if not done else -1\n",
        "            total_reward += reward\n",
        "            state = next_state\n",
        "        \n",
        "finally:\n",
        "    env.close()       \n",
        "    show_video()\n",
        "    print(total_reward)"
      ],
      "execution_count": 0,
      "outputs": [
        {
          "output_type": "display_data",
          "data": {
            "text/html": [
              "<video alt=\"test\" autoplay \n",
              "                loop controls style=\"height: 400px;\">\n",
              "                <source src=\"data:video/mp4;base64,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\" type=\"video/mp4\" />\n",
              "             </video>"
            ],
            "text/plain": [
              "<IPython.core.display.HTML object>"
            ]
          },
          "metadata": {
            "tags": []
          }
        },
        {
          "output_type": "stream",
          "text": [
            "-21.0\n"
          ],
          "name": "stdout"
        }
      ]
    },
    {
      "metadata": {
        "colab_type": "text",
        "id": "ca3zSLF02x1E"
      },
      "cell_type": "markdown",
      "source": [
        "## Train and test your agent with another atari environment"
      ]
    },
    {
      "metadata": {
        "id": "tF6zg3meqR8f",
        "colab_type": "code",
        "colab": {}
      },
      "cell_type": "code",
      "source": [
        "eps = 1.0\n",
        "decay = 0.99995\n",
        "count = 0\n",
        "\n",
        "while eps > 0.01:\n",
        "    count += 1\n",
        "    eps *= decay\n",
        "    if count % 100 == 0:\n",
        "      print(count,\" : \",eps)"
      ],
      "execution_count": 0,
      "outputs": []
    }
  ]
}