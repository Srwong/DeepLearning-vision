{
 "cells": [
  {
   "cell_type": "markdown",
   "metadata": {},
   "source": [
    "# Classify different data sets"
   ]
  },
  {
   "cell_type": "markdown",
   "metadata": {},
   "source": [
    "### Basic includes"
   ]
  },
  {
   "cell_type": "code",
   "execution_count": 239,
   "metadata": {},
   "outputs": [],
   "source": [
    "# Using pandas to load the csv file\n",
    "import pandas as pd\n",
    "\n",
    "import numpy as np\n",
    "import matplotlib.pyplot as plt\n",
    "\n",
    "from keras import models \n",
    "from keras import layers \n",
    "from keras import callbacks\n",
    "from keras.utils import to_categorical\n",
    "\n",
    "# reuters and fashin mnist data set from keras\n",
    "from keras.datasets import reuters\n",
    "from keras.datasets import fashion_mnist\n",
    "\n",
    "# needed to preprocess text\n",
    "from keras.preprocessing.text import Tokenizer"
   ]
  },
  {
   "cell_type": "markdown",
   "metadata": {},
   "source": [
    "### Classify the Fashion Mnist\n",
    "\n",
    "---"
   ]
  },
  {
   "cell_type": "code",
   "execution_count": 240,
   "metadata": {},
   "outputs": [
    {
     "name": "stdout",
     "output_type": "stream",
     "text": [
      "(60000, 28, 28)\n"
     ]
    },
    {
     "data": {
      "text/plain": [
       "<matplotlib.image.AxesImage at 0x149ecf1bba8>"
      ]
     },
     "execution_count": 240,
     "metadata": {},
     "output_type": "execute_result"
    },
    {
     "data": {
      "image/png": "[encoded data removed]",
      "text/plain": [
       "<Figure size 432x288 with 1 Axes>"
      ]
     },
     "metadata": {
      "needs_background": "light"
     },
     "output_type": "display_data"
    }
   ],
   "source": [
    "(fashion_train_data, fashion_train_labels), (fashion_test_data, fashion_test_labels) = fashion_mnist.load_data()\n",
    "\n",
    "print(fashion_train_data.shape)\n",
    "\n",
    "test_index = 10\n",
    "\n",
    "plt.title(\"Label: \" + str(fashion_train_labels[test_index]))\n",
    "plt.imshow(fashion_train_data[test_index], cmap=\"gray\")"
   ]
  },
  {
   "cell_type": "markdown",
   "metadata": {},
   "source": [
    "#### TO DO: Preprocess the data\n",
    "\n",
    "1. Normalize the input data set\n",
    "2. Perform one hot encoding\n",
    "3. Create a train, test, and validation set"
   ]
  },
  {
   "cell_type": "code",
   "execution_count": 241,
   "metadata": {},
   "outputs": [],
   "source": [
    "#normalize\n",
    "#print((fashion_train_data))\n",
    "#print((fashion_train_labels)) #10 categories\n",
    "#t = 2\n",
    "#plt.title(\"Label: \" + str(fashion_train_labels[t]))\n",
    "#plt.imshow(fashion_train_data[t], cmap=\"gray\")\n",
    "\n",
    "\"\"\"Normalize\"\"\"\n",
    "# flatten arrays (2 dimensions to 1 dimension)\n",
    "train_data = fashion_train_data.reshape((60000, 28 * 28))\n",
    "test_data = fashion_test_data.reshape((10000, 28*28))\n",
    "# turn values from 0-255 to 0-1\n",
    "train_images = train_data.astype('float32') / 255 \n",
    "test_data = test_data.astype('float32') / 255\n",
    "\n",
    "\"\"\"One hot encoding\"\"\"\n",
    "train_one_hot = to_categorical(fashion_train_labels) #number to encoding\n",
    "test_one_hot = to_categorical(fashion_test_labels) #number to encoding"
   ]
  },
  {
   "cell_type": "markdown",
   "metadata": {},
   "source": [
    "#### TO DO: Define and train a network, then plot the accuracy of the training, validation, and testing\n",
    "\n",
    "1. Use a validation set\n",
    "2. Propose and train a network\n",
    "3. Print the history of the training\n",
    "4. Evaluate with a test set"
   ]
  },
  {
   "cell_type": "code",
   "execution_count": 242,
   "metadata": {},
   "outputs": [
    {
     "name": "stdout",
     "output_type": "stream",
     "text": [
      "_________________________________________________________________\n",
      "Layer (type)                 Output Shape              Param #   \n",
      "=================================================================\n",
      "dense_120 (Dense)            (None, 64)                50240     \n",
      "_________________________________________________________________\n",
      "dropout_1 (Dropout)          (None, 64)                0         \n",
      "_________________________________________________________________\n",
      "dense_121 (Dense)            (None, 32)                2080      \n",
      "_________________________________________________________________\n",
      "dropout_2 (Dropout)          (None, 32)                0         \n",
      "_________________________________________________________________\n",
      "dense_122 (Dense)            (None, 16)                528       \n",
      "_________________________________________________________________\n",
      "dense_123 (Dense)            (None, 10)                170       \n",
      "=================================================================\n",
      "Total params: 53,018\n",
      "Trainable params: 53,018\n",
      "Non-trainable params: 0\n",
      "_________________________________________________________________\n"
     ]
    }
   ],
   "source": [
    "\"\"\"Create the network\"\"\"\n",
    "# Building the model architecture\n",
    "model = models.Sequential()\n",
    "\n",
    "model.add(layers.Dense(64, activation='relu', input_dim=784))\n",
    "# Added dropout between the input and first hidden layer\n",
    "model.add(layers.Dropout(0.3))\n",
    "model.add(layers.Dense(32, activation='relu'))\n",
    "# Added dropout between the first hidden layer and the second one\n",
    "model.add(layers.Dropout(0.15))\n",
    "model.add(layers.Dense(16, activation='relu'))\n",
    "model.add(layers.Dense(len(train_one_hot[0]), activation='softmax'))\n",
    "model.summary()\n",
    "\n",
    "\n",
    "\n",
    "\n",
    "\n",
    "# included the early stopping which monitors the validation loss\n",
    "early_stop = callbacks.EarlyStopping(monitor='val_loss', patience=5)\n",
    "model.compile(loss='categorical_crossentropy',  # categorical because we haver more than 2 categories\n",
    "              optimizer='adam', \n",
    "              metrics=['accuracy']) #metrics evaluated during the training"
   ]
  },
  {
   "cell_type": "code",
   "execution_count": 243,
   "metadata": {},
   "outputs": [
    {
     "name": "stdout",
     "output_type": "stream",
     "text": [
      "Train on 42000 samples, validate on 18000 samples\n",
      "Epoch 1/40\n",
      " - 2s - loss: 1.3899 - acc: 0.4985 - val_loss: 0.7028 - val_acc: 0.7593\n",
      "Epoch 2/40\n",
      " - 1s - loss: 0.7751 - acc: 0.7268 - val_loss: 0.5674 - val_acc: 0.7944\n",
      "Epoch 3/40\n",
      " - 1s - loss: 0.6509 - acc: 0.7684 - val_loss: 0.5109 - val_acc: 0.8242\n",
      "Epoch 4/40\n",
      " - 1s - loss: 0.5896 - acc: 0.7927 - val_loss: 0.4737 - val_acc: 0.8299\n",
      "Epoch 5/40\n",
      " - 1s - loss: 0.5435 - acc: 0.8090 - val_loss: 0.4466 - val_acc: 0.8392\n",
      "Epoch 6/40\n",
      " - 1s - loss: 0.5119 - acc: 0.8203 - val_loss: 0.4277 - val_acc: 0.8444\n",
      "Epoch 7/40\n",
      " - 1s - loss: 0.4947 - acc: 0.8261 - val_loss: 0.4184 - val_acc: 0.8493\n",
      "Epoch 8/40\n",
      " - 1s - loss: 0.4761 - acc: 0.8326 - val_loss: 0.4066 - val_acc: 0.8531\n",
      "Epoch 9/40\n",
      " - 1s - loss: 0.4594 - acc: 0.8386 - val_loss: 0.3928 - val_acc: 0.8581\n",
      "Epoch 10/40\n",
      " - 1s - loss: 0.4503 - acc: 0.8398 - val_loss: 0.3971 - val_acc: 0.8551\n",
      "Epoch 11/40\n",
      " - 1s - loss: 0.4474 - acc: 0.8423 - val_loss: 0.3910 - val_acc: 0.8572\n",
      "Epoch 12/40\n",
      " - 1s - loss: 0.4294 - acc: 0.8466 - val_loss: 0.3802 - val_acc: 0.8628\n",
      "Epoch 13/40\n",
      " - 1s - loss: 0.4279 - acc: 0.8478 - val_loss: 0.3720 - val_acc: 0.8653\n",
      "Epoch 14/40\n",
      " - 1s - loss: 0.4159 - acc: 0.8534 - val_loss: 0.3673 - val_acc: 0.8662\n",
      "Epoch 15/40\n",
      " - 1s - loss: 0.4096 - acc: 0.8539 - val_loss: 0.3711 - val_acc: 0.8665\n",
      "Epoch 16/40\n",
      " - 1s - loss: 0.4069 - acc: 0.8544 - val_loss: 0.3624 - val_acc: 0.8680\n",
      "Epoch 17/40\n",
      " - 1s - loss: 0.4084 - acc: 0.8541 - val_loss: 0.3670 - val_acc: 0.8668\n",
      "Epoch 18/40\n",
      " - 1s - loss: 0.3999 - acc: 0.8573 - val_loss: 0.3577 - val_acc: 0.8713\n",
      "Epoch 19/40\n",
      " - 1s - loss: 0.3977 - acc: 0.8560 - val_loss: 0.3607 - val_acc: 0.8671\n",
      "Epoch 20/40\n",
      " - 1s - loss: 0.3980 - acc: 0.8568 - val_loss: 0.3626 - val_acc: 0.8676\n",
      "Epoch 21/40\n",
      " - 1s - loss: 0.3907 - acc: 0.8598 - val_loss: 0.3551 - val_acc: 0.8723\n",
      "Epoch 22/40\n",
      " - 1s - loss: 0.3849 - acc: 0.8615 - val_loss: 0.3515 - val_acc: 0.8725\n",
      "Epoch 23/40\n",
      " - 1s - loss: 0.3717 - acc: 0.8667 - val_loss: 0.3612 - val_acc: 0.8698\n",
      "Epoch 24/40\n",
      " - 1s - loss: 0.3719 - acc: 0.8650 - val_loss: 0.3468 - val_acc: 0.8754\n",
      "Epoch 25/40\n",
      " - 1s - loss: 0.3713 - acc: 0.8653 - val_loss: 0.3534 - val_acc: 0.8724\n",
      "Epoch 26/40\n",
      " - 1s - loss: 0.3661 - acc: 0.8685 - val_loss: 0.3461 - val_acc: 0.8761\n",
      "Epoch 27/40\n",
      " - 1s - loss: 0.3677 - acc: 0.8672 - val_loss: 0.3426 - val_acc: 0.8767\n",
      "Epoch 28/40\n",
      " - 1s - loss: 0.3597 - acc: 0.8696 - val_loss: 0.3404 - val_acc: 0.8776\n",
      "Epoch 29/40\n",
      " - 1s - loss: 0.3597 - acc: 0.8706 - val_loss: 0.3468 - val_acc: 0.8777\n",
      "Epoch 30/40\n",
      " - 1s - loss: 0.3691 - acc: 0.8665 - val_loss: 0.3450 - val_acc: 0.8767\n",
      "Epoch 31/40\n",
      " - 1s - loss: 0.3503 - acc: 0.8737 - val_loss: 0.3444 - val_acc: 0.8778\n",
      "Epoch 32/40\n",
      " - 1s - loss: 0.3456 - acc: 0.8751 - val_loss: 0.3437 - val_acc: 0.8781\n",
      "Epoch 33/40\n",
      " - 1s - loss: 0.3558 - acc: 0.8726 - val_loss: 0.3474 - val_acc: 0.8766\n"
     ]
    }
   ],
   "source": [
    "history = model.fit(train_images, train_one_hot, #all the train values\n",
    "          batch_size=512, #parallel processing\n",
    "          epochs=40,#repetitions\n",
    "          validation_split=0.3, #procentage of the train data used\n",
    "          callbacks=[early_stop], #\n",
    "          verbose=2) #0 = silent, 1 = progress bar, 2 = one line per epoch"
   ]
  },
  {
   "cell_type": "code",
   "execution_count": 244,
   "metadata": {},
   "outputs": [
    {
     "name": "stdout",
     "output_type": "stream",
     "text": [
      "10000/10000 [==============================] - 0s 28us/step\n",
      "loss: 0.37332414350509646\n",
      "acc: 0.8674\n"
     ]
    }
   ],
   "source": [
    "# Evaluating the model with the test data\n",
    "results = model.evaluate(test_data, test_one_hot)\n",
    "print(\"{}: {}\\n{}: {}\".format(model.metrics_names[0], results[0],model.metrics_names[1], results[1]))"
   ]
  },
  {
   "cell_type": "code",
   "execution_count": 245,
   "metadata": {},
   "outputs": [
    {
     "data": {
      "image/png": "[encoded data removed]",
      "text/plain": [
       "<Figure size 432x288 with 1 Axes>"
      ]
     },
     "metadata": {
      "needs_background": "light"
     },
     "output_type": "display_data"
    }
   ],
   "source": [
    "# This dictionary stores the validation and accuracy of the model throughout the epochs\n",
    "history_dict = history.history\n",
    "\n",
    "#Plot the history of each model: plot training and validation, loss and accuracy.\n",
    "# The history values are split in different lists for ease of plotting\n",
    "acc = history_dict['acc']\n",
    "val_acc = history_dict['val_acc']\n",
    "loss = history_dict['loss']\n",
    "val_loss = history_dict['val_loss']\n",
    "\n",
    "epochs = range(1, len(acc) + 1)\n",
    "\n",
    "# Plot of the validation and training loss\n",
    "\n",
    "# \"bo\" is for \"blue dot\"\n",
    "plt.plot(epochs, loss, 'bo', label='Training loss')\n",
    "# b is for \"solid blue line\"\n",
    "plt.plot(epochs, val_loss, 'r', label='Validation loss')\n",
    "plt.title('Training and validation loss')\n",
    "plt.xlabel('Epochs')\n",
    "plt.ylabel('Loss')\n",
    "plt.legend()\n",
    "\n",
    "plt.show()"
   ]
  },
  {
   "cell_type": "code",
   "execution_count": 246,
   "metadata": {},
   "outputs": [
    {
     "data": {
      "image/png": "[encoded data removed]",
      "text/plain": [
       "<Figure size 432x288 with 1 Axes>"
      ]
     },
     "metadata": {
      "needs_background": "light"
     },
     "output_type": "display_data"
    }
   ],
   "source": [
    "# Plot of the validation and train accuracy\n",
    "\n",
    "plt.clf()   # clear figure\n",
    "\n",
    "plt.plot(epochs, acc, 'bo', label='Training acc')\n",
    "plt.plot(epochs, val_acc, 'r', label='Validation acc')\n",
    "plt.title('Training and validation accuracy')\n",
    "plt.xlabel('Epochs')\n",
    "plt.ylabel('Accuracy')\n",
    "plt.legend()\n",
    "\n",
    "plt.show()"
   ]
  },
  {
   "cell_type": "markdown",
   "metadata": {},
   "source": [
    "# Process\n",
    "The **first model** was created with two hidden layers, 128, 64 and 32 neurons in that order to overfit the network and reduce it.\n",
    "The fitting was using:\n",
    "1. batch size of 512\n",
    "2. 40 epochs\n",
    "3. 30% of the training data\n",
    "\n",
    "The accuracy in the training was 0.9363, but the true value was 0.8548. \n",
    "Evaluating the model with the test set the results were:\n",
    "* loss of 0.6219487633883953\n",
    "* accuracy of 0.8415\n",
    "\n",
    "The **second model** was created with three hidden layers, 64, 32 and 16 neurons in that order to reduce the overfit created with the previous model.\n",
    "The fitting was using:\n",
    "1. batch size of 512\n",
    "2. 40 epochs\n",
    "3. 30% of the training data\n",
    "\n",
    "The accuracy in the training was 0.9363, but the true value was 0.8548. \n",
    "Evaluating the model with the test set the results were:\n",
    "* loss of 0.47954736976623535\n",
    "* accuracy of 0.8448\n",
    "\n",
    "The **third model** was the same as the second model, but I changed the optimizer to adam.\n",
    "Evaluating the model with the test set the results were:\n",
    "* loss of 0.36955473768115044\n",
    "* accuracy of 0.8722\n",
    "\n",
    "The **fourth model** was the same as the third model in neurons, but here I added:\n",
    "* two dropdowns, one of 0.3 and the next one of 0.15\n",
    "* callback monitoring val_loss with patience of 5\n",
    "Evaluating the model with the test set the results were:\n",
    "* loss of 0.36640799753665926\n",
    "* accuracy of 0.8718\n",
    "\n",
    "Almost the same validation loss and training loss"
   ]
  },
  {
   "cell_type": "markdown",
   "metadata": {},
   "source": [
    "## Classifying newswires\n",
    "\n",
    "---\n",
    "\n",
    "Build a network to classify Reuters newswires into 46 different mutually-exclusive topics."
   ]
  },
  {
   "cell_type": "markdown",
   "metadata": {},
   "source": [
    "### Load and review the data"
   ]
  },
  {
   "cell_type": "code",
   "execution_count": 247,
   "metadata": {},
   "outputs": [
    {
     "name": "stdout",
     "output_type": "stream",
     "text": [
      "(8982,)\n",
      "(8982,)\n",
      "[1, 2, 2, 8, 43, 10, 447, 5, 25, 207, 270, 5, 3095, 111, 16, 369, 186, 90, 67, 7, 89, 5, 19, 102, 6, 19, 124, 15, 90, 67, 84, 22, 482, 26, 7, 48, 4, 49, 8, 864, 39, 209, 154, 6, 151, 6, 83, 11, 15, 22, 155, 11, 15, 7, 48, 9, 4579, 1005, 504, 6, 258, 6, 272, 11, 15, 22, 134, 44, 11, 15, 16, 8, 197, 1245, 90, 67, 52, 29, 209, 30, 32, 132, 6, 109, 15, 17, 12]\n",
      "3\n",
      "87\n",
      "{0, 1, 2, 3, 4, 5, 6, 7, 8, 9, 10, 11, 12, 13, 14, 15, 16, 17, 18, 19, 20, 21, 22, 23, 24, 25, 26, 27, 28, 29, 30, 31, 32, 33, 34, 35, 36, 37, 38, 39, 40, 41, 42, 43, 44, 45}\n"
     ]
    }
   ],
   "source": [
    "(reuters_train_data, reuters_train_labels),(reuters_test_data, reuters_test_labels) = reuters.load_data(num_words=10000)\n",
    "\n",
    "print(reuters_train_data.shape)\n",
    "print(reuters_train_labels.shape)\n",
    "print(reuters_train_data[0])\n",
    "print(reuters_train_labels[0])\n",
    "\n",
    "print(len(reuters_train_data[0])) \n",
    "\n",
    "print(set(reuters_train_labels))"
   ]
  },
  {
   "cell_type": "markdown",
   "metadata": {},
   "source": [
    "Load the word index to decode the train data."
   ]
  },
  {
   "cell_type": "code",
   "execution_count": 248,
   "metadata": {},
   "outputs": [
    {
     "name": "stdout",
     "output_type": "stream",
     "text": [
      "<START> <UNKNOWN> <UNKNOWN> said as a result of its december acquisition of space co it expects earnings per share in 1987 of 1 15 to 1 30 dlrs per share up from 70 cts in 1986 the company said pretax net should rise to nine to 10 mln dlrs from six mln dlrs in 1986 and rental operation revenues to 19 to 22 mln dlrs from 12 5 mln dlrs it said cash flow per share this year should be 2 50 to three dlrs reuter 3\n"
     ]
    }
   ],
   "source": [
    "word_index = reuters.get_word_index()\n",
    "\n",
    "reverse_index = dict([(value+3, key) for (key, value) in word_index.items()])\n",
    "\n",
    "reverse_index[0] = \"<PAD>\"\n",
    "reverse_index[1] = \"<START>\"\n",
    "reverse_index[2] = \"<UNKNOWN>\"  # unknown\n",
    "reverse_index[3] = \"<UNUSED>\"\n",
    "\n",
    "decoded_review = ' '.join([reverse_index.get(i,'?') for i in reuters_train_data[0]])\n",
    "\n",
    "print(decoded_review)"
   ]
  },
  {
   "cell_type": "markdown",
   "metadata": {},
   "source": [
    "#### TO DO: Preprocess the data\n",
    "\n",
    "1. Normalize the input data set\n",
    "2. Perform one hot encoding\n",
    "3. Create a train, test, and validation set"
   ]
  },
  {
   "cell_type": "code",
   "execution_count": 249,
   "metadata": {},
   "outputs": [
    {
     "name": "stdout",
     "output_type": "stream",
     "text": [
      "(8982, 5000)\n",
      "(2246, 5000)\n",
      "(8982, 46)\n",
      "(2246, 46)\n"
     ]
    }
   ],
   "source": [
    "\"\"\"normalize the input\"\"\"\n",
    "\n",
    "tokenizer = Tokenizer(num_words=5000)# Turning the output into vector mode, each of length 5000\n",
    "reuters_train_token = tokenizer.sequences_to_matrix(reuters_train_data, mode='binary')\n",
    "reuters_test_token = tokenizer.sequences_to_matrix(reuters_test_data, mode='binary')\n",
    "print(reuters_train_token.shape)\n",
    "print(reuters_test_token.shape)\n",
    "\n",
    "\"\"\"One-hot encoding\"\"\"\n",
    "num_classes = 46 \n",
    "one_hot_train_labels = to_categorical(reuters_train_labels, num_classes)\n",
    "one_hot_test_labels = to_categorical(reuters_test_labels, num_classes)\n",
    "print(one_hot_train_labels.shape)\n",
    "print(one_hot_test_labels.shape)"
   ]
  },
  {
   "cell_type": "markdown",
   "metadata": {},
   "source": [
    "#### TO DO: Define and train a network, then plot the accuracy of the training, validation, and testing\n",
    "\n",
    "1. Use a validation set\n",
    "2. Propose and train a network\n",
    "3. Print the history of the training\n",
    "4. Evaluate with a test set"
   ]
  },
  {
   "cell_type": "code",
   "execution_count": 538,
   "metadata": {},
   "outputs": [
    {
     "name": "stdout",
     "output_type": "stream",
     "text": [
      "_________________________________________________________________\n",
      "Layer (type)                 Output Shape              Param #   \n",
      "=================================================================\n",
      "dense_380 (Dense)            (None, 1024)              5121024   \n",
      "_________________________________________________________________\n",
      "dense_381 (Dense)            (None, 512)               524800    \n",
      "_________________________________________________________________\n",
      "dense_382 (Dense)            (None, 256)               131328    \n",
      "_________________________________________________________________\n",
      "dense_383 (Dense)            (None, 128)               32896     \n",
      "_________________________________________________________________\n",
      "dense_384 (Dense)            (None, 46)                5934      \n",
      "=================================================================\n",
      "Total params: 5,815,982\n",
      "Trainable params: 5,815,982\n",
      "Non-trainable params: 0\n",
      "_________________________________________________________________\n"
     ]
    }
   ],
   "source": [
    "\"\"\"Create the network\"\"\"\n",
    "# Building the model architecture\n",
    "reuter_model = models.Sequential()\n",
    "\n",
    "\n",
    "reuter_model.add(layers.Dense(1024, activation='relu', input_dim=5000))\n",
    "model.add(layers.Dropout(0.5))\n",
    "reuter_model.add(layers.Dense(512, activation='relu'))\n",
    "# Added dropout between the input and first hidden layer\n",
    "model.add(layers.Dropout(0.3))\n",
    "reuter_model.add(layers.Dense(256, activation='relu'))\n",
    "# Added dropout between the first hidden layer and the second one\n",
    "model.add(layers.Dropout(0.1))\n",
    "reuter_model.add(layers.Dense(128, activation='relu'))\n",
    "\n",
    "reuter_model.add(layers.Dense(num_classes, activation='softmax'))\n",
    "reuter_model.summary()\n",
    "\n",
    "\n",
    "# included the early stopping which monitors the validation loss\n",
    "early_stop_2 = callbacks.EarlyStopping(monitor='val_acc', patience=10, restore_best_weights=True)\n",
    "reuter_model.compile(loss='categorical_crossentropy',  # categorical because we haver more than 2 categories\n",
    "              optimizer='rmsprop', \n",
    "              metrics=['accuracy']) #metrics evaluated during the training"
   ]
  },
  {
   "cell_type": "code",
   "execution_count": 539,
   "metadata": {},
   "outputs": [
    {
     "name": "stdout",
     "output_type": "stream",
     "text": [
      "Train on 7185 samples, validate on 1797 samples\n",
      "Epoch 1/200\n",
      " - 6s - loss: 1.8862 - acc: 0.5777 - val_loss: 1.5132 - val_acc: 0.6183\n",
      "Epoch 2/200\n",
      " - 3s - loss: 0.9808 - acc: 0.7677 - val_loss: 1.3047 - val_acc: 0.7117\n",
      "Epoch 3/200\n",
      " - 3s - loss: 0.5844 - acc: 0.8568 - val_loss: 1.2531 - val_acc: 0.7156\n",
      "Epoch 4/200\n",
      " - 3s - loss: 0.3886 - acc: 0.9074 - val_loss: 1.0251 - val_acc: 0.7913\n",
      "Epoch 5/200\n",
      " - 3s - loss: 0.2175 - acc: 0.9488 - val_loss: 1.3260 - val_acc: 0.7479\n",
      "Epoch 6/200\n",
      " - 3s - loss: 0.1861 - acc: 0.9510 - val_loss: 1.0865 - val_acc: 0.7841\n",
      "Epoch 7/200\n",
      " - 3s - loss: 0.1445 - acc: 0.9571 - val_loss: 1.3565 - val_acc: 0.7813\n",
      "Epoch 8/200\n",
      " - 3s - loss: 0.1281 - acc: 0.9580 - val_loss: 1.2985 - val_acc: 0.7468\n",
      "Epoch 9/200\n",
      " - 3s - loss: 0.1094 - acc: 0.9570 - val_loss: 1.7118 - val_acc: 0.7501\n",
      "Epoch 10/200\n",
      " - 3s - loss: 0.0993 - acc: 0.9594 - val_loss: 1.5757 - val_acc: 0.7830\n",
      "Epoch 11/200\n",
      " - 3s - loss: 0.0892 - acc: 0.9598 - val_loss: 1.4977 - val_acc: 0.8002\n",
      "Epoch 12/200\n",
      " - 3s - loss: 0.0938 - acc: 0.9588 - val_loss: 1.9119 - val_acc: 0.7140\n",
      "Epoch 13/200\n",
      " - 3s - loss: 0.0871 - acc: 0.9620 - val_loss: 1.4987 - val_acc: 0.7735\n",
      "Epoch 14/200\n",
      " - 3s - loss: 0.0836 - acc: 0.9609 - val_loss: 1.4603 - val_acc: 0.8019\n",
      "Epoch 15/200\n",
      " - 3s - loss: 0.0706 - acc: 0.9645 - val_loss: 1.5797 - val_acc: 0.7858\n",
      "Epoch 16/200\n",
      " - 3s - loss: 0.1219 - acc: 0.9580 - val_loss: 1.4742 - val_acc: 0.7935\n",
      "Epoch 17/200\n",
      " - 3s - loss: 0.0841 - acc: 0.9591 - val_loss: 1.5769 - val_acc: 0.7885\n",
      "Epoch 18/200\n",
      " - 3s - loss: 0.0644 - acc: 0.9663 - val_loss: 1.6896 - val_acc: 0.7913\n",
      "Epoch 19/200\n",
      " - 3s - loss: 0.0684 - acc: 0.9642 - val_loss: 1.9769 - val_acc: 0.7846\n",
      "Epoch 20/200\n",
      " - 3s - loss: 0.0735 - acc: 0.9645 - val_loss: 1.7155 - val_acc: 0.7824\n",
      "Epoch 21/200\n",
      " - 3s - loss: 0.0763 - acc: 0.9638 - val_loss: 1.7639 - val_acc: 0.7935\n",
      "Epoch 22/200\n",
      " - 3s - loss: 0.0631 - acc: 0.9644 - val_loss: 1.8786 - val_acc: 0.7963\n",
      "Epoch 23/200\n",
      " - 3s - loss: 0.1617 - acc: 0.9523 - val_loss: 1.5909 - val_acc: 0.8041\n",
      "Epoch 24/200\n",
      " - 3s - loss: 0.0547 - acc: 0.9666 - val_loss: 1.7186 - val_acc: 0.7952\n",
      "Epoch 25/200\n",
      " - 3s - loss: 0.0591 - acc: 0.9637 - val_loss: 1.9082 - val_acc: 0.7830\n",
      "Epoch 26/200\n",
      " - 3s - loss: 0.0662 - acc: 0.9614 - val_loss: 1.8331 - val_acc: 0.7846\n",
      "Epoch 27/200\n",
      " - 3s - loss: 0.0620 - acc: 0.9642 - val_loss: 1.8097 - val_acc: 0.7913\n",
      "Epoch 28/200\n",
      " - 3s - loss: 0.0604 - acc: 0.9669 - val_loss: 1.8513 - val_acc: 0.7908\n",
      "Epoch 29/200\n",
      " - 3s - loss: 0.0687 - acc: 0.9628 - val_loss: 1.7804 - val_acc: 0.7997\n",
      "Epoch 30/200\n",
      " - 3s - loss: 0.0556 - acc: 0.9669 - val_loss: 1.7951 - val_acc: 0.7935\n",
      "Epoch 31/200\n",
      " - 3s - loss: 0.0558 - acc: 0.9655 - val_loss: 1.9387 - val_acc: 0.7819\n",
      "Epoch 32/200\n",
      " - 3s - loss: 0.1211 - acc: 0.9563 - val_loss: 1.7959 - val_acc: 0.7913\n",
      "Epoch 33/200\n",
      " - 3s - loss: 0.0554 - acc: 0.9658 - val_loss: 1.7757 - val_acc: 0.8024\n"
     ]
    }
   ],
   "source": [
    "\"\"\"train the network\"\"\"\n",
    "\n",
    "history_reuters = reuter_model.fit(reuters_train_token, one_hot_train_labels, #all the train values\n",
    "          batch_size=256, #parallel processing\n",
    "          epochs=200,#repetitions\n",
    "          validation_split=0.2, #procentage of the train data used\n",
    "          callbacks = [early_stop_2],\n",
    "          verbose=2) #0 = silent, 1 = progress bar, 2 = one line per epoch"
   ]
  },
  {
   "cell_type": "code",
   "execution_count": 540,
   "metadata": {},
   "outputs": [
    {
     "name": "stdout",
     "output_type": "stream",
     "text": [
      "2246/2246 [==============================] - 1s 241us/step\n",
      "loss: 1.705743442341778\n",
      "acc: 0.7943009795191451\n"
     ]
    }
   ],
   "source": [
    "# Evaluating the model with the test data\n",
    "reuter_results = reuter_model.evaluate(reuters_test_token, one_hot_test_labels)\n",
    "print(\"{}: {}\\n{}: {}\".format(reuter_model.metrics_names[0], reuter_results[0], \n",
    "                              reuter_model.metrics_names[1], reuter_results[1]))"
   ]
  },
  {
   "cell_type": "code",
   "execution_count": 541,
   "metadata": {},
   "outputs": [
    {
     "data": {
      "image/png": "[encoded data removed]",
      "text/plain": [
       "<Figure size 432x288 with 1 Axes>"
      ]
     },
     "metadata": {
      "needs_background": "light"
     },
     "output_type": "display_data"
    }
   ],
   "source": [
    "# This dictionary stores the validation and accuracy of the model throughout the epochs\n",
    "reuter_history_dict = history_reuters.history\n",
    "\n",
    "#Plot the history of each model: plot training and validation, loss and accuracy.\n",
    "# The history values are split in different lists for ease of plotting\n",
    "acc = reuter_history_dict['acc']\n",
    "val_acc = reuter_history_dict['val_acc']\n",
    "loss = reuter_history_dict['loss']\n",
    "val_loss = reuter_history_dict['val_loss']\n",
    "\n",
    "epochs = range(1, len(acc) + 1)\n",
    "\n",
    "# Plot of the validation and training loss\n",
    "\n",
    "# \"bo\" is for \"blue dot\"\n",
    "plt.plot(epochs, loss, 'bo', label='Training loss')\n",
    "# b is for \"solid blue line\"\n",
    "plt.plot(epochs, val_loss, 'r', label='Validation loss')\n",
    "plt.title('Training and validation loss')\n",
    "plt.xlabel('Epochs')\n",
    "plt.ylabel('Loss')\n",
    "plt.legend()\n",
    "\n",
    "plt.show()"
   ]
  },
  {
   "cell_type": "code",
   "execution_count": 542,
   "metadata": {},
   "outputs": [
    {
     "data": {
      "image/png": "[encoded data removed]",
      "text/plain": [
       "<Figure size 432x288 with 1 Axes>"
      ]
     },
     "metadata": {
      "needs_background": "light"
     },
     "output_type": "display_data"
    }
   ],
   "source": [
    "# Plot of the validation and train accuracy\n",
    "\n",
    "plt.clf()   # clear figure\n",
    "\n",
    "plt.plot(epochs, acc, 'bo', label='Training acc')\n",
    "plt.plot(epochs, val_acc, 'r', label='Validation acc')\n",
    "plt.title('Training and validation accuracy')\n",
    "plt.xlabel('Epochs')\n",
    "plt.ylabel('Accuracy')\n",
    "plt.legend()\n",
    "\n",
    "plt.show()"
   ]
  },
  {
   "cell_type": "markdown",
   "metadata": {},
   "source": [
    "# Process\n",
    "The **first model** was created with two hidden layers, 128, 64 and 32 neurons in that order to overfit the network and reduce it.\n",
    "The fitting was using:\n",
    "1. batch size of 512\n",
    "2. 50 epochs\n",
    "3. 70% of the training data\n",
    "\n",
    "Evaluating the model with the test set the results were:\n",
    "* loss of 1.5925076249870782\n",
    "* accuracy of 0.7613535174172793\n",
    "\n",
    "The **second model** was created with three hidden layers, 64, 32 and 16 neurons in that order to reduce the overfit created with the previous model.\n",
    "The fitting was using:\n",
    "1. batch size of 512\n",
    "2. 50 epochs\n",
    "3. 70% of the training data\n",
    "\n",
    "Evaluating the model with the test set the results were:\n",
    "* loss of 3.3107286238394353\n",
    "* accuracy of 0.6959038290293855\n",
    "\n",
    "**worse model**\n",
    "\n",
    "The **third model** was changed:\n",
    "    * 512, 256 and 128 neurons are the new number of neurons in the layers\n",
    "    * optimizer='rmsprop', \n",
    "    * the percentage of the trainning data used was decreased to 20%\n",
    "    \n",
    "    \n",
    "I added:\n",
    "    * two dropdowns, one of 0.5 and the next one of 0.25\n",
    "    * a callback checking val_loss with patience of 5\n",
    "    \n",
    "Evaluating the model with the test set the results were:\n",
    "* loss of 1.2423255868183112\n",
    "* accuracy of 0.790293855743544\n",
    "\n",
    "After the third model I began to modify the model by increasing the number of neuros per layer and trying different combinations \n",
    "of optimizer, loss and activation function. The best fitting model i could create was this one.\n",
    "* 5 layers, 1024,512,264,128 and 46 neurons in that order.\n",
    "* rmsprop as optimizer and categorical_crossentropy as the loss function.\n",
    "* three dropdowns, of 0.5, 0.3 and 0.1 between the first layers\n",
    "* I used only 20% of the training set\n",
    "\n",
    "Increasing or decreasing that values didn´t increase the accuracy of the model.\n",
    "The best results were:\n",
    "* loss: 1.705743442341778\n",
    "* accuracy: 0.7943009795191451\n"
   ]
  },
  {
   "cell_type": "markdown",
   "metadata": {},
   "source": [
    "## Predicting Student Admissions\n",
    "\n",
    "---\n",
    "\n",
    "Predict student admissions based on three pieces of data:\n",
    "\n",
    "- GRE Scores\n",
    "- GPA Scores\n",
    "- Class rank"
   ]
  },
  {
   "cell_type": "markdown",
   "metadata": {},
   "source": [
    "### Load and visualize the data"
   ]
  },
  {
   "cell_type": "code",
   "execution_count": 10,
   "metadata": {},
   "outputs": [
    {
     "name": "stdout",
     "output_type": "stream",
     "text": [
      "     admit    gre   gpa  rank\n",
      "0        0  380.0  3.61   3.0\n",
      "1        1  660.0  3.67   3.0\n",
      "2        1  800.0  4.00   1.0\n",
      "3        1  640.0  3.19   4.0\n",
      "4        0  520.0  2.93   4.0\n",
      "5        1  760.0  3.00   2.0\n",
      "6        1  560.0  2.98   1.0\n",
      "7        0  400.0  3.08   2.0\n",
      "8        1  540.0  3.39   3.0\n",
      "9        0  700.0  3.92   2.0\n",
      "10       0  800.0  4.00   4.0\n",
      "11       0  440.0  3.22   1.0\n",
      "12       1  760.0  4.00   1.0\n",
      "13       0  700.0  3.08   2.0\n",
      "14       1  700.0  4.00   1.0\n",
      "15       0  480.0  3.44   3.0\n",
      "16       0  780.0  3.87   4.0\n",
      "17       0  360.0  2.56   3.0\n",
      "18       0  800.0  3.75   2.0\n",
      "19       1  540.0  3.81   1.0\n",
      "20       0  500.0  3.17   3.0\n",
      "21       1  660.0  3.63   2.0\n",
      "22       0  600.0  2.82   4.0\n",
      "23       0  680.0  3.19   4.0\n",
      "24       1  760.0  3.35   2.0\n",
      "25       1  800.0  3.66   1.0\n",
      "26       1  620.0  3.61   1.0\n",
      "27       1  520.0  3.74   4.0\n",
      "28       1  780.0  3.22   2.0\n",
      "29       0  520.0  3.29   1.0\n",
      "..     ...    ...   ...   ...\n",
      "370      1  540.0  3.77   2.0\n",
      "371      1  680.0  3.76   3.0\n",
      "372      1  680.0  2.42   1.0\n",
      "373      1  620.0  3.37   1.0\n",
      "374      0  560.0  3.78   2.0\n",
      "375      0  560.0  3.49   4.0\n",
      "376      0  620.0  3.63   2.0\n",
      "377      1  800.0  4.00   2.0\n",
      "378      0  640.0  3.12   3.0\n",
      "379      0  540.0  2.70   2.0\n",
      "380      0  700.0  3.65   2.0\n",
      "381      1  540.0  3.49   2.0\n",
      "382      0  540.0  3.51   2.0\n",
      "383      0  660.0  4.00   1.0\n",
      "384      1  480.0  2.62   2.0\n",
      "385      0  420.0  3.02   1.0\n",
      "386      1  740.0  3.86   2.0\n",
      "387      0  580.0  3.36   2.0\n",
      "388      0  640.0  3.17   2.0\n",
      "389      0  640.0  3.51   2.0\n",
      "390      1  800.0  3.05   2.0\n",
      "391      1  660.0  3.88   2.0\n",
      "392      1  600.0  3.38   3.0\n",
      "393      1  620.0  3.75   2.0\n",
      "394      1  460.0  3.99   3.0\n",
      "395      0  620.0  4.00   2.0\n",
      "396      0  560.0  3.04   3.0\n",
      "397      0  460.0  2.63   2.0\n",
      "398      0  700.0  3.65   2.0\n",
      "399      0  600.0  3.89   3.0\n",
      "\n",
      "[400 rows x 4 columns]\n"
     ]
    }
   ],
   "source": [
    "student_data = pd.read_csv(\"student_data.csv\")\n",
    "print(student_data)"
   ]
  },
  {
   "cell_type": "markdown",
   "metadata": {},
   "source": [
    "Plot of the GRE and the GPA from the data."
   ]
  },
  {
   "cell_type": "code",
   "execution_count": 11,
   "metadata": {},
   "outputs": [
    {
     "data": {
      "image/png": "[encoded data removed]",
      "text/plain": [
       "<Figure size 432x288 with 1 Axes>"
      ]
     },
     "metadata": {
      "needs_background": "light"
     },
     "output_type": "display_data"
    }
   ],
   "source": [
    "X = np.array(student_data[[\"gre\",\"gpa\"]])\n",
    "y = np.array(student_data[\"admit\"])\n",
    "admitted = X[np.argwhere(y==1)]\n",
    "rejected = X[np.argwhere(y==0)]\n",
    "plt.scatter([s[0][0] for s in rejected], [s[0][1] for s in rejected], s = 25, color = 'red', edgecolor = 'k')\n",
    "plt.scatter([s[0][0] for s in admitted], [s[0][1] for s in admitted], s = 25, color = 'cyan', edgecolor = 'k')\n",
    "plt.xlabel('Test (GRE)')\n",
    "plt.ylabel('Grades (GPA)')\n",
    "\n",
    "plt.show()"
   ]
  },
  {
   "cell_type": "markdown",
   "metadata": {},
   "source": [
    "Plot of the data by class rank."
   ]
  },
  {
   "cell_type": "code",
   "execution_count": 50,
   "metadata": {},
   "outputs": [
    {
     "data": {
      "image/png": "[encoded data removed]",
      "text/plain": [
       "<Figure size 1440x720 with 4 Axes>"
      ]
     },
     "metadata": {
      "needs_background": "light"
     },
     "output_type": "display_data"
    }
   ],
   "source": [
    "f, plots = plt.subplots(2, 2, figsize=(20,10))\n",
    "plots = [plot for sublist in plots for plot in sublist]\n",
    "\n",
    "for idx, plot in enumerate(plots):\n",
    "    data_rank = data[data[\"rank\"]==idx+1]\n",
    "    plot.set_title(\"Rank \" + str(idx+1))\n",
    "    X = np.array(data_rank[[\"gre\",\"gpa\"]])\n",
    "    y = np.array(data_rank[\"admit\"])\n",
    "    admitted = X[np.argwhere(y==1)]\n",
    "    rejected = X[np.argwhere(y==0)]\n",
    "    plot.scatter([s[0][0] for s in rejected], [s[0][1] for s in rejected], s = 25, color = 'red', edgecolor = 'k')\n",
    "    plot.scatter([s[0][0] for s in admitted], [s[0][1] for s in admitted], s = 25, color = 'cyan', edgecolor = 'k')\n",
    "    plot.set_xlabel('Test (GRE)')\n",
    "    plot.set_ylabel('Grades (GPA)')\n",
    "    "
   ]
  },
  {
   "cell_type": "markdown",
   "metadata": {},
   "source": [
    "#### TO DO: Preprocess the data\n",
    "\n",
    "1. Normalize the input data set\n",
    "2. Perform one hot encoding\n",
    "3. Create a train, test, and validation set"
   ]
  },
  {
   "cell_type": "code",
   "execution_count": 392,
   "metadata": {},
   "outputs": [
    {
     "name": "stdout",
     "output_type": "stream",
     "text": [
      "[-1.67519354  0.52645679  0.          0.          0.          1.\n",
      "  0.        ]\n"
     ]
    }
   ],
   "source": [
    "\"\"\"normalize\"\"\"\n",
    "\n",
    "labels = y\n",
    "\n",
    "#extract each column and add data where is needed\n",
    "gre = np.array(student_data[[\"gre\"]])\n",
    "for x in gre:\n",
    "    if np.isnan(x[0]):\n",
    "        x[0] = 0        \n",
    "\n",
    "gpa = np.array(student_data[[\"gpa\"]])\n",
    "for x in gpa:\n",
    "    if np.isnan(x[0]):\n",
    "        x[0] = 0  \n",
    "        \n",
    "rank = np.array(student_data[[\"rank\"]])\n",
    "for x in rank:\n",
    "    if np.isnan(x[0]):\n",
    "        x[0] = 1\n",
    "\n",
    "#average and standard desviation\n",
    "gre_avg = np.average(gre)\n",
    "gre_sd = np.std(gre)\n",
    "gpa_avg = np.average(gpa)\n",
    "gpa_sd = np.std(gpa)\n",
    "\n",
    "#normalize\n",
    "gre = (gre-gre_avg)/gre_sd\n",
    "gpa = (gpa-gpa_avg)/gpa_sd\n",
    "rank = to_categorical(rank)\n",
    "\n",
    "#join into a single variable\n",
    "data = inputs = np.zeros((len(gre),7)) #gre + gpa + 5 categories\n",
    "data[:,0] = gre[0]\n",
    "data[:,1] = gpa[0]\n",
    "data[:,2:] = rank[:]\n",
    "\n",
    "print(data[0])\n",
    "\"\"\"One hot enconding\"\"\"\n",
    "labels = to_categorical(y)\n",
    "\n",
    "\"\"\"sets\"\"\"\n",
    "index = 300\n",
    "#train_data = data[:index]\n",
    "test_data = data[index:]  \n",
    "#train_labels = labels[:index]\n",
    "test_labels = labels[index:]"
   ]
  },
  {
   "cell_type": "markdown",
   "metadata": {},
   "source": [
    "#### TO DO: Define and train a network, then plot the accuracy of the training, validation, and testing\n",
    "\n",
    "1. Use a validation set\n",
    "2. Propose and train a network\n",
    "3. Print the history of the training\n",
    "4. Evaluate with a test set"
   ]
  },
  {
   "cell_type": "code",
   "execution_count": 589,
   "metadata": {},
   "outputs": [
    {
     "name": "stdout",
     "output_type": "stream",
     "text": [
      "_________________________________________________________________\n",
      "Layer (type)                 Output Shape              Param #   \n",
      "=================================================================\n",
      "dense_432 (Dense)            (None, 6)                 48        \n",
      "_________________________________________________________________\n",
      "dense_433 (Dense)            (None, 6)                 42        \n",
      "_________________________________________________________________\n",
      "dense_434 (Dense)            (None, 6)                 42        \n",
      "_________________________________________________________________\n",
      "dense_435 (Dense)            (None, 2)                 14        \n",
      "=================================================================\n",
      "Total params: 146\n",
      "Trainable params: 146\n",
      "Non-trainable params: 0\n",
      "_________________________________________________________________\n"
     ]
    }
   ],
   "source": [
    "\"\"\"Create the network\"\"\"\n",
    "# Building the model architecture\n",
    "student_model = models.Sequential()\n",
    "\n",
    "student_model.add(layers.Dense(6, activation='relu', input_dim=len(data[0])))\n",
    "# Added dropout between the input and first hidden layer\n",
    "model.add(layers.Dropout(0.3))\n",
    "student_model.add(layers.Dense(6, activation='relu'))\n",
    "# Added dropout between the first hidden layer and the second one\n",
    "model.add(layers.Dropout(0.15))\n",
    "student_model.add(layers.Dense(6, activation='relu'))\n",
    "student_model.add(layers.Dense(len(train_labels[0]), activation='softmax'))\n",
    "student_model.summary()\n",
    "\n",
    "\n",
    "# included the early stopping which monitors the validation loss and search for the best result after stoping\n",
    "early_stop_students = callbacks.EarlyStopping(monitor='val_loss', patience=15, restore_best_weights=True) # \n",
    "student_model.compile(loss='binary_crossentropy',\n",
    "              optimizer='rmsprop', \n",
    "              metrics=['accuracy']) #metrics evaluated during the training"
   ]
  },
  {
   "cell_type": "code",
   "execution_count": 590,
   "metadata": {},
   "outputs": [
    {
     "name": "stdout",
     "output_type": "stream",
     "text": [
      "Train on 200 samples, validate on 200 samples\n",
      "Epoch 1/1000\n",
      " - 5s - loss: 0.8213 - acc: 0.2800 - val_loss: 0.7619 - val_acc: 0.3550\n",
      "Epoch 2/1000\n",
      " - 0s - loss: 0.7829 - acc: 0.2800 - val_loss: 0.7438 - val_acc: 0.3550\n",
      "Epoch 3/1000\n",
      " - 0s - loss: 0.7611 - acc: 0.2800 - val_loss: 0.7311 - val_acc: 0.3550\n",
      "Epoch 4/1000\n",
      " - 0s - loss: 0.7445 - acc: 0.2800 - val_loss: 0.7211 - val_acc: 0.3550\n",
      "Epoch 5/1000\n",
      " - 0s - loss: 0.7312 - acc: 0.2800 - val_loss: 0.7113 - val_acc: 0.3550\n",
      "Epoch 6/1000\n",
      " - 0s - loss: 0.7180 - acc: 0.2800 - val_loss: 0.7039 - val_acc: 0.3550\n",
      "Epoch 7/1000\n",
      " - 0s - loss: 0.7079 - acc: 0.2800 - val_loss: 0.6984 - val_acc: 0.4750\n",
      "Epoch 8/1000\n",
      " - 0s - loss: 0.7005 - acc: 0.4900 - val_loss: 0.6947 - val_acc: 0.5450\n",
      "Epoch 9/1000\n",
      " - 0s - loss: 0.6947 - acc: 0.5250 - val_loss: 0.6903 - val_acc: 0.5450\n",
      "Epoch 10/1000\n",
      " - 0s - loss: 0.6881 - acc: 0.5250 - val_loss: 0.6868 - val_acc: 0.5450\n",
      "Epoch 11/1000\n",
      " - 0s - loss: 0.6825 - acc: 0.7000 - val_loss: 0.6830 - val_acc: 0.6550\n",
      "Epoch 12/1000\n",
      " - 0s - loss: 0.6770 - acc: 0.7400 - val_loss: 0.6799 - val_acc: 0.6550\n",
      "Epoch 13/1000\n",
      " - 0s - loss: 0.6718 - acc: 0.7200 - val_loss: 0.6768 - val_acc: 0.6450\n",
      "Epoch 14/1000\n",
      " - 0s - loss: 0.6672 - acc: 0.7200 - val_loss: 0.6747 - val_acc: 0.6450\n",
      "Epoch 15/1000\n",
      " - 0s - loss: 0.6637 - acc: 0.7200 - val_loss: 0.6728 - val_acc: 0.6450\n",
      "Epoch 16/1000\n",
      " - 0s - loss: 0.6602 - acc: 0.7200 - val_loss: 0.6702 - val_acc: 0.6450\n",
      "Epoch 17/1000\n",
      " - 0s - loss: 0.6561 - acc: 0.7200 - val_loss: 0.6685 - val_acc: 0.6450\n",
      "Epoch 18/1000\n",
      " - 0s - loss: 0.6529 - acc: 0.7200 - val_loss: 0.6664 - val_acc: 0.6450\n",
      "Epoch 19/1000\n",
      " - 0s - loss: 0.6495 - acc: 0.7200 - val_loss: 0.6653 - val_acc: 0.6450\n",
      "Epoch 20/1000\n",
      " - 0s - loss: 0.6474 - acc: 0.7200 - val_loss: 0.6639 - val_acc: 0.6450\n",
      "Epoch 21/1000\n",
      " - 0s - loss: 0.6449 - acc: 0.7200 - val_loss: 0.6624 - val_acc: 0.6450\n",
      "Epoch 22/1000\n",
      " - 0s - loss: 0.6422 - acc: 0.7200 - val_loss: 0.6615 - val_acc: 0.6450\n",
      "Epoch 23/1000\n",
      " - 0s - loss: 0.6404 - acc: 0.7200 - val_loss: 0.6604 - val_acc: 0.6450\n",
      "Epoch 24/1000\n",
      " - 0s - loss: 0.6383 - acc: 0.7200 - val_loss: 0.6594 - val_acc: 0.6450\n",
      "Epoch 25/1000\n",
      " - 0s - loss: 0.6363 - acc: 0.7200 - val_loss: 0.6585 - val_acc: 0.6450\n",
      "Epoch 26/1000\n",
      " - 0s - loss: 0.6343 - acc: 0.7200 - val_loss: 0.6576 - val_acc: 0.6450\n",
      "Epoch 27/1000\n",
      " - 0s - loss: 0.6325 - acc: 0.7200 - val_loss: 0.6566 - val_acc: 0.6450\n",
      "Epoch 28/1000\n",
      " - 0s - loss: 0.6305 - acc: 0.7200 - val_loss: 0.6558 - val_acc: 0.6450\n",
      "Epoch 29/1000\n",
      " - 0s - loss: 0.6288 - acc: 0.7200 - val_loss: 0.6550 - val_acc: 0.6450\n",
      "Epoch 30/1000\n",
      " - 0s - loss: 0.6270 - acc: 0.7200 - val_loss: 0.6540 - val_acc: 0.6450\n",
      "Epoch 31/1000\n",
      " - 0s - loss: 0.6250 - acc: 0.7200 - val_loss: 0.6533 - val_acc: 0.6450\n",
      "Epoch 32/1000\n",
      " - 0s - loss: 0.6233 - acc: 0.7200 - val_loss: 0.6525 - val_acc: 0.6450\n",
      "Epoch 33/1000\n",
      " - 0s - loss: 0.6215 - acc: 0.7200 - val_loss: 0.6517 - val_acc: 0.6450\n",
      "Epoch 34/1000\n",
      " - 0s - loss: 0.6202 - acc: 0.7200 - val_loss: 0.6510 - val_acc: 0.6450\n",
      "Epoch 35/1000\n",
      " - 0s - loss: 0.6185 - acc: 0.7200 - val_loss: 0.6504 - val_acc: 0.6450\n",
      "Epoch 36/1000\n",
      " - 0s - loss: 0.6171 - acc: 0.7200 - val_loss: 0.6498 - val_acc: 0.6450\n",
      "Epoch 37/1000\n",
      " - 0s - loss: 0.6156 - acc: 0.7200 - val_loss: 0.6493 - val_acc: 0.6450\n",
      "Epoch 38/1000\n",
      " - 0s - loss: 0.6142 - acc: 0.7200 - val_loss: 0.6486 - val_acc: 0.6450\n",
      "Epoch 39/1000\n",
      " - 0s - loss: 0.6127 - acc: 0.7200 - val_loss: 0.6482 - val_acc: 0.6450\n",
      "Epoch 40/1000\n",
      " - 0s - loss: 0.6114 - acc: 0.7200 - val_loss: 0.6475 - val_acc: 0.6450\n",
      "Epoch 41/1000\n",
      " - 0s - loss: 0.6100 - acc: 0.7200 - val_loss: 0.6468 - val_acc: 0.6450\n",
      "Epoch 42/1000\n",
      " - 0s - loss: 0.6084 - acc: 0.7200 - val_loss: 0.6462 - val_acc: 0.6450\n",
      "Epoch 43/1000\n",
      " - 0s - loss: 0.6069 - acc: 0.7200 - val_loss: 0.6458 - val_acc: 0.6450\n",
      "Epoch 44/1000\n",
      " - 0s - loss: 0.6055 - acc: 0.7200 - val_loss: 0.6452 - val_acc: 0.6450\n",
      "Epoch 45/1000\n",
      " - 0s - loss: 0.6045 - acc: 0.7200 - val_loss: 0.6447 - val_acc: 0.6450\n",
      "Epoch 46/1000\n",
      " - 0s - loss: 0.6029 - acc: 0.7200 - val_loss: 0.6442 - val_acc: 0.6450\n",
      "Epoch 47/1000\n",
      " - 0s - loss: 0.6022 - acc: 0.7200 - val_loss: 0.6437 - val_acc: 0.6450\n",
      "Epoch 48/1000\n",
      " - 0s - loss: 0.6007 - acc: 0.7200 - val_loss: 0.6433 - val_acc: 0.6450\n",
      "Epoch 49/1000\n",
      " - 0s - loss: 0.5994 - acc: 0.7200 - val_loss: 0.6430 - val_acc: 0.6450\n",
      "Epoch 50/1000\n",
      " - 0s - loss: 0.5982 - acc: 0.7200 - val_loss: 0.6426 - val_acc: 0.6450\n",
      "Epoch 51/1000\n",
      " - 0s - loss: 0.5973 - acc: 0.7200 - val_loss: 0.6423 - val_acc: 0.6450\n",
      "Epoch 52/1000\n",
      " - 0s - loss: 0.5961 - acc: 0.7200 - val_loss: 0.6420 - val_acc: 0.6450\n",
      "Epoch 53/1000\n",
      " - 0s - loss: 0.5950 - acc: 0.7200 - val_loss: 0.6416 - val_acc: 0.6450\n",
      "Epoch 54/1000\n",
      " - 0s - loss: 0.5939 - acc: 0.7200 - val_loss: 0.6411 - val_acc: 0.6450\n",
      "Epoch 55/1000\n",
      " - 0s - loss: 0.5929 - acc: 0.7200 - val_loss: 0.6410 - val_acc: 0.6450\n",
      "Epoch 56/1000\n",
      " - 0s - loss: 0.5918 - acc: 0.7200 - val_loss: 0.6405 - val_acc: 0.6450\n",
      "Epoch 57/1000\n",
      " - 0s - loss: 0.5906 - acc: 0.7200 - val_loss: 0.6405 - val_acc: 0.6450\n",
      "Epoch 58/1000\n",
      " - 0s - loss: 0.5897 - acc: 0.7200 - val_loss: 0.6397 - val_acc: 0.6450\n",
      "Epoch 59/1000\n",
      " - 0s - loss: 0.5885 - acc: 0.7200 - val_loss: 0.6398 - val_acc: 0.6450\n",
      "Epoch 60/1000\n",
      " - 0s - loss: 0.5879 - acc: 0.7200 - val_loss: 0.6393 - val_acc: 0.6450\n",
      "Epoch 61/1000\n",
      " - 0s - loss: 0.5865 - acc: 0.7200 - val_loss: 0.6393 - val_acc: 0.6450\n",
      "Epoch 62/1000\n",
      " - 0s - loss: 0.5856 - acc: 0.7200 - val_loss: 0.6387 - val_acc: 0.6450\n",
      "Epoch 63/1000\n",
      " - 0s - loss: 0.5848 - acc: 0.7200 - val_loss: 0.6384 - val_acc: 0.6450\n",
      "Epoch 64/1000\n",
      " - 0s - loss: 0.5843 - acc: 0.7200 - val_loss: 0.6386 - val_acc: 0.6450\n",
      "Epoch 65/1000\n",
      " - 0s - loss: 0.5830 - acc: 0.7200 - val_loss: 0.6381 - val_acc: 0.6450\n",
      "Epoch 66/1000\n",
      " - 0s - loss: 0.5821 - acc: 0.7200 - val_loss: 0.6381 - val_acc: 0.6450\n",
      "Epoch 67/1000\n",
      " - 0s - loss: 0.5815 - acc: 0.7200 - val_loss: 0.6380 - val_acc: 0.6450\n",
      "Epoch 68/1000\n",
      " - 0s - loss: 0.5805 - acc: 0.7200 - val_loss: 0.6375 - val_acc: 0.6450\n",
      "Epoch 69/1000\n",
      " - 0s - loss: 0.5795 - acc: 0.7200 - val_loss: 0.6373 - val_acc: 0.6450\n",
      "Epoch 70/1000\n",
      " - 0s - loss: 0.5787 - acc: 0.7200 - val_loss: 0.6372 - val_acc: 0.6450\n",
      "Epoch 71/1000\n",
      " - 0s - loss: 0.5779 - acc: 0.7200 - val_loss: 0.6369 - val_acc: 0.6450\n",
      "Epoch 72/1000\n",
      " - 0s - loss: 0.5772 - acc: 0.7200 - val_loss: 0.6367 - val_acc: 0.6550\n",
      "Epoch 73/1000\n",
      " - 0s - loss: 0.5760 - acc: 0.7400 - val_loss: 0.6366 - val_acc: 0.6550\n",
      "Epoch 74/1000\n",
      " - 0s - loss: 0.5750 - acc: 0.7150 - val_loss: 0.6366 - val_acc: 0.6450\n",
      "Epoch 75/1000\n",
      " - 0s - loss: 0.5744 - acc: 0.7200 - val_loss: 0.6364 - val_acc: 0.6550\n",
      "Epoch 76/1000\n",
      " - 0s - loss: 0.5733 - acc: 0.7350 - val_loss: 0.6362 - val_acc: 0.6550\n",
      "Epoch 77/1000\n",
      " - 0s - loss: 0.5730 - acc: 0.7400 - val_loss: 0.6361 - val_acc: 0.6550\n",
      "Epoch 78/1000\n",
      " - 0s - loss: 0.5720 - acc: 0.7400 - val_loss: 0.6360 - val_acc: 0.6550\n",
      "Epoch 79/1000\n",
      " - 0s - loss: 0.5719 - acc: 0.7400 - val_loss: 0.6361 - val_acc: 0.6550\n",
      "Epoch 80/1000\n",
      " - 0s - loss: 0.5708 - acc: 0.7400 - val_loss: 0.6360 - val_acc: 0.6550\n",
      "Epoch 81/1000\n",
      " - 0s - loss: 0.5705 - acc: 0.7400 - val_loss: 0.6360 - val_acc: 0.6550\n",
      "Epoch 82/1000\n",
      " - 0s - loss: 0.5696 - acc: 0.7400 - val_loss: 0.6360 - val_acc: 0.6550\n",
      "Epoch 83/1000\n",
      " - 0s - loss: 0.5692 - acc: 0.7400 - val_loss: 0.6361 - val_acc: 0.6550\n",
      "Epoch 84/1000\n",
      " - 0s - loss: 0.5685 - acc: 0.7400 - val_loss: 0.6360 - val_acc: 0.6550\n",
      "Epoch 85/1000\n",
      " - 0s - loss: 0.5681 - acc: 0.7400 - val_loss: 0.6359 - val_acc: 0.6550\n",
      "Epoch 86/1000\n",
      " - 0s - loss: 0.5672 - acc: 0.7400 - val_loss: 0.6359 - val_acc: 0.6550\n",
      "Epoch 87/1000\n",
      " - 0s - loss: 0.5670 - acc: 0.7400 - val_loss: 0.6360 - val_acc: 0.6550\n",
      "Epoch 88/1000\n",
      " - 0s - loss: 0.5665 - acc: 0.7400 - val_loss: 0.6361 - val_acc: 0.6550\n",
      "Epoch 89/1000\n",
      " - 0s - loss: 0.5659 - acc: 0.7400 - val_loss: 0.6362 - val_acc: 0.6550\n",
      "Epoch 90/1000\n",
      " - 0s - loss: 0.5655 - acc: 0.7400 - val_loss: 0.6361 - val_acc: 0.6550\n",
      "Epoch 91/1000\n",
      " - 0s - loss: 0.5652 - acc: 0.7400 - val_loss: 0.6361 - val_acc: 0.6550\n",
      "Epoch 92/1000\n",
      " - 0s - loss: 0.5643 - acc: 0.7400 - val_loss: 0.6362 - val_acc: 0.6550\n",
      "Epoch 93/1000\n",
      " - 0s - loss: 0.5644 - acc: 0.7400 - val_loss: 0.6362 - val_acc: 0.6550\n",
      "Epoch 94/1000\n",
      " - 0s - loss: 0.5636 - acc: 0.7400 - val_loss: 0.6362 - val_acc: 0.6550\n",
      "Epoch 95/1000\n",
      " - 0s - loss: 0.5631 - acc: 0.7400 - val_loss: 0.6362 - val_acc: 0.6550\n"
     ]
    },
    {
     "name": "stdout",
     "output_type": "stream",
     "text": [
      "Epoch 96/1000\n",
      " - 0s - loss: 0.5629 - acc: 0.7400 - val_loss: 0.6363 - val_acc: 0.6550\n",
      "Epoch 97/1000\n",
      " - 0s - loss: 0.5621 - acc: 0.7400 - val_loss: 0.6363 - val_acc: 0.6550\n",
      "Epoch 98/1000\n",
      " - 0s - loss: 0.5618 - acc: 0.7400 - val_loss: 0.6364 - val_acc: 0.6550\n",
      "Epoch 99/1000\n",
      " - 0s - loss: 0.5611 - acc: 0.7400 - val_loss: 0.6364 - val_acc: 0.6550\n",
      "Epoch 100/1000\n",
      " - 0s - loss: 0.5611 - acc: 0.7400 - val_loss: 0.6364 - val_acc: 0.6550\n"
     ]
    }
   ],
   "source": [
    "history_students = student_model.fit(data, labels, #all the train values\n",
    "          epochs=1000,#repetitions\n",
    "          validation_split=0.5, #procentage of the train data used \n",
    "          callbacks = [early_stop_students],\n",
    "          verbose=2) #0 = silent, 1 = progress bar, 2 = one line per epoch"
   ]
  },
  {
   "cell_type": "code",
   "execution_count": 591,
   "metadata": {},
   "outputs": [
    {
     "name": "stdout",
     "output_type": "stream",
     "text": [
      "100/100 [==============================] - 0s 120us/step\n",
      "loss: 0.6381608784198761\n",
      "acc: 0.65\n"
     ]
    }
   ],
   "source": [
    "# Evaluating the model with the test data\n",
    "students_results = student_model.evaluate(test_data, test_labels)\n",
    "print(\"{}: {}\\n{}: {}\".format(student_model.metrics_names[0], students_results[0], \n",
    "                              student_model.metrics_names[1], students_results[1]))"
   ]
  },
  {
   "cell_type": "code",
   "execution_count": 592,
   "metadata": {},
   "outputs": [
    {
     "data": {
      "image/png": "[encoded data removed]",
      "text/plain": [
       "<Figure size 432x288 with 1 Axes>"
      ]
     },
     "metadata": {
      "needs_background": "light"
     },
     "output_type": "display_data"
    }
   ],
   "source": [
    "# This dictionary stores the validation and accuracy of the model throughout the epochs\n",
    "students_history_dict = history_students.history\n",
    "#Plot the history of each model: plot training and validation, loss and accuracy.\n",
    "# The history values are split in different lists for ease of plotting\n",
    "acc = students_history_dict['acc']\n",
    "val_acc = students_history_dict['val_acc']\n",
    "loss = students_history_dict['loss']\n",
    "val_loss = students_history_dict['val_loss']\n",
    "\n",
    "epochs = range(1, len(acc) + 1)\n",
    "\n",
    "# Plot of the validation and training loss\n",
    "\n",
    "# \"bo\" is for \"blue dot\"\n",
    "plt.plot(epochs, loss, 'bo', label='Training loss')\n",
    "# b is for \"solid blue line\"\n",
    "plt.plot(epochs, val_loss, 'r', label='Validation loss')\n",
    "plt.title('Training and validation loss')\n",
    "plt.xlabel('Epochs')\n",
    "plt.ylabel('Loss')\n",
    "plt.legend()\n",
    "\n",
    "plt.show()"
   ]
  },
  {
   "cell_type": "code",
   "execution_count": 593,
   "metadata": {},
   "outputs": [
    {
     "data": {
      "image/png": "[encoded data removed]",
      "text/plain": [
       "<Figure size 432x288 with 1 Axes>"
      ]
     },
     "metadata": {
      "needs_background": "light"
     },
     "output_type": "display_data"
    }
   ],
   "source": [
    "# Plot of the validation and train accuracy\n",
    "\n",
    "plt.clf()   # clear figure\n",
    "\n",
    "plt.plot(epochs, acc, 'bo', label='Training acc')\n",
    "plt.plot(epochs, val_acc, 'r', label='Validation acc')\n",
    "plt.title('Training and validation accuracy')\n",
    "plt.xlabel('Epochs')\n",
    "plt.ylabel('Accuracy')\n",
    "plt.legend()\n",
    "\n",
    "plt.show()"
   ]
  },
  {
   "cell_type": "markdown",
   "metadata": {},
   "source": [
    "# Process\n",
    "\n",
    "The proccess at the beginning was the same as the one of the previous model. At the beginning decreasing the number of neurons at a minimum of 16 wasn´t enough. The model must be decreased even more, without it the model didn´t increased even more of 50%. Reaching a lower number of neurons in the model increased the accuracy up to 65%, but using different combinations of loss function, optimizer and activation function didn´t improve the accuracy. This problem may need a diferent type of neuron type or even more input data per case."
   ]
  }
 ],
 "metadata": {
  "kernelspec": {
   "display_name": "Python 3",
   "language": "python",
   "name": "python3"
  },
  "language_info": {
   "codemirror_mode": {
    "name": "ipython",
    "version": 3
   },
   "file_extension": ".py",
   "mimetype": "text/x-python",
   "name": "python",
   "nbconvert_exporter": "python",
   "pygments_lexer": "ipython3",
   "version": "3.6.8"
  }
 },
 "nbformat": 4,
 "nbformat_minor": 2
}
